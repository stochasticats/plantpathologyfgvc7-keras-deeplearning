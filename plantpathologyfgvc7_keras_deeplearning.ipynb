{
  "nbformat": 4,
  "nbformat_minor": 0,
  "metadata": {
    "colab": {
      "name": "plantpathologyfgvc7-keras-deeplearning.ipynb",
      "provenance": [],
      "collapsed_sections": [],
      "mount_file_id": "1RKRmVNPimPQDZKLaP3gbf8RS6Hv5VSYu",
      "authorship_tag": "ABX9TyPQXDj3TYQ3ojsD6L6Z7EME",
      "include_colab_link": true
    },
    "kernelspec": {
      "name": "python3",
      "display_name": "Python 3"
    },
    "accelerator": "GPU",
    "widgets": {
      "application/vnd.jupyter.widget-state+json": {
        "6587ee5e7d59412a98280d7b9bc66e5a": {
          "model_module": "@jupyter-widgets/controls",
          "model_name": "HBoxModel",
          "state": {
            "_view_name": "HBoxView",
            "_dom_classes": [],
            "_model_name": "HBoxModel",
            "_view_module": "@jupyter-widgets/controls",
            "_model_module_version": "1.5.0",
            "_view_count": null,
            "_view_module_version": "1.5.0",
            "box_style": "",
            "layout": "IPY_MODEL_c41fbaa7e1a3403995aaf395a86371bd",
            "_model_module": "@jupyter-widgets/controls",
            "children": [
              "IPY_MODEL_ab47202bfd9d455986b39a0129fea394",
              "IPY_MODEL_922d799ba7954fcab80a41603683923f"
            ]
          }
        },
        "c41fbaa7e1a3403995aaf395a86371bd": {
          "model_module": "@jupyter-widgets/base",
          "model_name": "LayoutModel",
          "state": {
            "_view_name": "LayoutView",
            "grid_template_rows": null,
            "right": null,
            "justify_content": null,
            "_view_module": "@jupyter-widgets/base",
            "overflow": null,
            "_model_module_version": "1.2.0",
            "_view_count": null,
            "flex_flow": null,
            "width": null,
            "min_width": null,
            "border": null,
            "align_items": null,
            "bottom": null,
            "_model_module": "@jupyter-widgets/base",
            "top": null,
            "grid_column": null,
            "overflow_y": null,
            "overflow_x": null,
            "grid_auto_flow": null,
            "grid_area": null,
            "grid_template_columns": null,
            "flex": null,
            "_model_name": "LayoutModel",
            "justify_items": null,
            "grid_row": null,
            "max_height": null,
            "align_content": null,
            "visibility": null,
            "align_self": null,
            "height": null,
            "min_height": null,
            "padding": null,
            "grid_auto_rows": null,
            "grid_gap": null,
            "max_width": null,
            "order": null,
            "_view_module_version": "1.2.0",
            "grid_template_areas": null,
            "object_position": null,
            "object_fit": null,
            "grid_auto_columns": null,
            "margin": null,
            "display": null,
            "left": null
          }
        },
        "ab47202bfd9d455986b39a0129fea394": {
          "model_module": "@jupyter-widgets/controls",
          "model_name": "IntProgressModel",
          "state": {
            "_view_name": "ProgressView",
            "style": "IPY_MODEL_53aff0aa7bd74a44bad4e7ab03d9acdc",
            "_dom_classes": [],
            "description": "100%",
            "_model_name": "IntProgressModel",
            "bar_style": "success",
            "max": 1821,
            "_view_module": "@jupyter-widgets/controls",
            "_model_module_version": "1.5.0",
            "value": 1821,
            "_view_count": null,
            "_view_module_version": "1.5.0",
            "orientation": "horizontal",
            "min": 0,
            "description_tooltip": null,
            "_model_module": "@jupyter-widgets/controls",
            "layout": "IPY_MODEL_1d3790108cda4f60960e934d93c35609"
          }
        },
        "922d799ba7954fcab80a41603683923f": {
          "model_module": "@jupyter-widgets/controls",
          "model_name": "HTMLModel",
          "state": {
            "_view_name": "HTMLView",
            "style": "IPY_MODEL_7d91e6f2e718431b9e0b1114df224c30",
            "_dom_classes": [],
            "description": "",
            "_model_name": "HTMLModel",
            "placeholder": "​",
            "_view_module": "@jupyter-widgets/controls",
            "_model_module_version": "1.5.0",
            "value": " 1821/1821 [17:50&lt;00:00,  1.70it/s]",
            "_view_count": null,
            "_view_module_version": "1.5.0",
            "description_tooltip": null,
            "_model_module": "@jupyter-widgets/controls",
            "layout": "IPY_MODEL_bcaa8aa024ae4955aa77f0847e656fd2"
          }
        },
        "53aff0aa7bd74a44bad4e7ab03d9acdc": {
          "model_module": "@jupyter-widgets/controls",
          "model_name": "ProgressStyleModel",
          "state": {
            "_view_name": "StyleView",
            "_model_name": "ProgressStyleModel",
            "description_width": "initial",
            "_view_module": "@jupyter-widgets/base",
            "_model_module_version": "1.5.0",
            "_view_count": null,
            "_view_module_version": "1.2.0",
            "bar_color": null,
            "_model_module": "@jupyter-widgets/controls"
          }
        },
        "1d3790108cda4f60960e934d93c35609": {
          "model_module": "@jupyter-widgets/base",
          "model_name": "LayoutModel",
          "state": {
            "_view_name": "LayoutView",
            "grid_template_rows": null,
            "right": null,
            "justify_content": null,
            "_view_module": "@jupyter-widgets/base",
            "overflow": null,
            "_model_module_version": "1.2.0",
            "_view_count": null,
            "flex_flow": null,
            "width": null,
            "min_width": null,
            "border": null,
            "align_items": null,
            "bottom": null,
            "_model_module": "@jupyter-widgets/base",
            "top": null,
            "grid_column": null,
            "overflow_y": null,
            "overflow_x": null,
            "grid_auto_flow": null,
            "grid_area": null,
            "grid_template_columns": null,
            "flex": null,
            "_model_name": "LayoutModel",
            "justify_items": null,
            "grid_row": null,
            "max_height": null,
            "align_content": null,
            "visibility": null,
            "align_self": null,
            "height": null,
            "min_height": null,
            "padding": null,
            "grid_auto_rows": null,
            "grid_gap": null,
            "max_width": null,
            "order": null,
            "_view_module_version": "1.2.0",
            "grid_template_areas": null,
            "object_position": null,
            "object_fit": null,
            "grid_auto_columns": null,
            "margin": null,
            "display": null,
            "left": null
          }
        },
        "7d91e6f2e718431b9e0b1114df224c30": {
          "model_module": "@jupyter-widgets/controls",
          "model_name": "DescriptionStyleModel",
          "state": {
            "_view_name": "StyleView",
            "_model_name": "DescriptionStyleModel",
            "description_width": "",
            "_view_module": "@jupyter-widgets/base",
            "_model_module_version": "1.5.0",
            "_view_count": null,
            "_view_module_version": "1.2.0",
            "_model_module": "@jupyter-widgets/controls"
          }
        },
        "bcaa8aa024ae4955aa77f0847e656fd2": {
          "model_module": "@jupyter-widgets/base",
          "model_name": "LayoutModel",
          "state": {
            "_view_name": "LayoutView",
            "grid_template_rows": null,
            "right": null,
            "justify_content": null,
            "_view_module": "@jupyter-widgets/base",
            "overflow": null,
            "_model_module_version": "1.2.0",
            "_view_count": null,
            "flex_flow": null,
            "width": null,
            "min_width": null,
            "border": null,
            "align_items": null,
            "bottom": null,
            "_model_module": "@jupyter-widgets/base",
            "top": null,
            "grid_column": null,
            "overflow_y": null,
            "overflow_x": null,
            "grid_auto_flow": null,
            "grid_area": null,
            "grid_template_columns": null,
            "flex": null,
            "_model_name": "LayoutModel",
            "justify_items": null,
            "grid_row": null,
            "max_height": null,
            "align_content": null,
            "visibility": null,
            "align_self": null,
            "height": null,
            "min_height": null,
            "padding": null,
            "grid_auto_rows": null,
            "grid_gap": null,
            "max_width": null,
            "order": null,
            "_view_module_version": "1.2.0",
            "grid_template_areas": null,
            "object_position": null,
            "object_fit": null,
            "grid_auto_columns": null,
            "margin": null,
            "display": null,
            "left": null
          }
        }
      }
    }
  },
  "cells": [
    {
      "cell_type": "markdown",
      "metadata": {
        "id": "view-in-github",
        "colab_type": "text"
      },
      "source": [
        "<a href=\"https://colab.research.google.com/github/stochasticats/plantpathologyfgvc7-keras-deeplearning/blob/master/plantpathologyfgvc7_keras_deeplearning.ipynb\" target=\"_parent\"><img src=\"https://colab.research.google.com/assets/colab-badge.svg\" alt=\"Open In Colab\"/></a>"
      ]
    },
    {
      "cell_type": "code",
      "metadata": {
        "id": "p5bbfvM2JJxf",
        "colab_type": "code",
        "outputId": "6e7e3781-9df8-4aa6-cd44-660c89360bc8",
        "colab": {
          "base_uri": "https://localhost:8080/",
          "height": 35
        }
      },
      "source": [
        "import numpy as np\n",
        "import pandas as pd\n",
        "import tensorflow as tf\n",
        "print(tf.__version__)\n",
        "from keras_preprocessing.image import ImageDataGenerator\n",
        "from sklearn.model_selection import train_test_split\n",
        "import os\n",
        "import shutil"
      ],
      "execution_count": 0,
      "outputs": [
        {
          "output_type": "stream",
          "text": [
            "1.15.0\n"
          ],
          "name": "stdout"
        }
      ]
    },
    {
      "cell_type": "markdown",
      "metadata": {
        "id": "WgpPEEbv2JgZ",
        "colab_type": "text"
      },
      "source": [
        "# Load data and preprocessing\n",
        "Here we load the data and process it so that it can be fed into the model. The data set is a zipped file located on my Google drive."
      ]
    },
    {
      "cell_type": "code",
      "metadata": {
        "id": "Zg88_m7R2HVz",
        "colab_type": "code",
        "colab": {}
      },
      "source": [
        "!unzip -uq \"/content/drive/My Drive/plant-pathology-2020-fgvc7.zip\""
      ],
      "execution_count": 0,
      "outputs": []
    },
    {
      "cell_type": "code",
      "metadata": {
        "id": "gsoyz_t12pQH",
        "colab_type": "code",
        "outputId": "aa0bd956-13f5-4ae0-c200-7224338f39e4",
        "colab": {
          "base_uri": "https://localhost:8080/",
          "height": 146
        }
      },
      "source": [
        "dataset = pd.read_csv('train.csv')\n",
        "print(dataset.head())\n",
        "print(dataset.shape)"
      ],
      "execution_count": 0,
      "outputs": [
        {
          "output_type": "stream",
          "text": [
            "  image_id  healthy  multiple_diseases  rust  scab\n",
            "0  Train_0        0                  0     0     1\n",
            "1  Train_1        0                  1     0     0\n",
            "2  Train_2        1                  0     0     0\n",
            "3  Train_3        0                  0     1     0\n",
            "4  Train_4        1                  0     0     0\n",
            "(1821, 5)\n"
          ],
          "name": "stdout"
        }
      ]
    },
    {
      "cell_type": "code",
      "metadata": {
        "id": "6I-pefjI2tM9",
        "colab_type": "code",
        "outputId": "1821ba45-51f5-4e8c-e677-7f9a2c666cfc",
        "colab": {
          "base_uri": "https://localhost:8080/",
          "height": 300
        }
      },
      "source": [
        "dataset.describe()"
      ],
      "execution_count": 0,
      "outputs": [
        {
          "output_type": "execute_result",
          "data": {
            "text/html": [
              "<div>\n",
              "<style scoped>\n",
              "    .dataframe tbody tr th:only-of-type {\n",
              "        vertical-align: middle;\n",
              "    }\n",
              "\n",
              "    .dataframe tbody tr th {\n",
              "        vertical-align: top;\n",
              "    }\n",
              "\n",
              "    .dataframe thead th {\n",
              "        text-align: right;\n",
              "    }\n",
              "</style>\n",
              "<table border=\"1\" class=\"dataframe\">\n",
              "  <thead>\n",
              "    <tr style=\"text-align: right;\">\n",
              "      <th></th>\n",
              "      <th>healthy</th>\n",
              "      <th>multiple_diseases</th>\n",
              "      <th>rust</th>\n",
              "      <th>scab</th>\n",
              "    </tr>\n",
              "  </thead>\n",
              "  <tbody>\n",
              "    <tr>\n",
              "      <th>count</th>\n",
              "      <td>1821.000000</td>\n",
              "      <td>1821.000000</td>\n",
              "      <td>1821.000000</td>\n",
              "      <td>1821.000000</td>\n",
              "    </tr>\n",
              "    <tr>\n",
              "      <th>mean</th>\n",
              "      <td>0.283361</td>\n",
              "      <td>0.049973</td>\n",
              "      <td>0.341571</td>\n",
              "      <td>0.325096</td>\n",
              "    </tr>\n",
              "    <tr>\n",
              "      <th>std</th>\n",
              "      <td>0.450754</td>\n",
              "      <td>0.217948</td>\n",
              "      <td>0.474367</td>\n",
              "      <td>0.468539</td>\n",
              "    </tr>\n",
              "    <tr>\n",
              "      <th>min</th>\n",
              "      <td>0.000000</td>\n",
              "      <td>0.000000</td>\n",
              "      <td>0.000000</td>\n",
              "      <td>0.000000</td>\n",
              "    </tr>\n",
              "    <tr>\n",
              "      <th>25%</th>\n",
              "      <td>0.000000</td>\n",
              "      <td>0.000000</td>\n",
              "      <td>0.000000</td>\n",
              "      <td>0.000000</td>\n",
              "    </tr>\n",
              "    <tr>\n",
              "      <th>50%</th>\n",
              "      <td>0.000000</td>\n",
              "      <td>0.000000</td>\n",
              "      <td>0.000000</td>\n",
              "      <td>0.000000</td>\n",
              "    </tr>\n",
              "    <tr>\n",
              "      <th>75%</th>\n",
              "      <td>1.000000</td>\n",
              "      <td>0.000000</td>\n",
              "      <td>1.000000</td>\n",
              "      <td>1.000000</td>\n",
              "    </tr>\n",
              "    <tr>\n",
              "      <th>max</th>\n",
              "      <td>1.000000</td>\n",
              "      <td>1.000000</td>\n",
              "      <td>1.000000</td>\n",
              "      <td>1.000000</td>\n",
              "    </tr>\n",
              "  </tbody>\n",
              "</table>\n",
              "</div>"
            ],
            "text/plain": [
              "           healthy  multiple_diseases         rust         scab\n",
              "count  1821.000000        1821.000000  1821.000000  1821.000000\n",
              "mean      0.283361           0.049973     0.341571     0.325096\n",
              "std       0.450754           0.217948     0.474367     0.468539\n",
              "min       0.000000           0.000000     0.000000     0.000000\n",
              "25%       0.000000           0.000000     0.000000     0.000000\n",
              "50%       0.000000           0.000000     0.000000     0.000000\n",
              "75%       1.000000           0.000000     1.000000     1.000000\n",
              "max       1.000000           1.000000     1.000000     1.000000"
            ]
          },
          "metadata": {
            "tags": []
          },
          "execution_count": 5
        }
      ]
    },
    {
      "cell_type": "markdown",
      "metadata": {
        "id": "KJ05k8LT2wZQ",
        "colab_type": "text"
      },
      "source": [
        "The data set is clearly imbalanced in one of the classes, that class being multiple_diseases. It's safe to say most of the plants are either healthy, scabby, or rusty. \n",
        "\n",
        "Now to split the data into train and validation sets, then take a quick look at their make up."
      ]
    },
    {
      "cell_type": "code",
      "metadata": {
        "id": "_789vsTw4Drl",
        "colab_type": "code",
        "colab": {}
      },
      "source": [
        "train, validation = train_test_split(dataset, test_size=0.2)"
      ],
      "execution_count": 0,
      "outputs": []
    },
    {
      "cell_type": "code",
      "metadata": {
        "id": "aD7oOLU64JAG",
        "colab_type": "code",
        "outputId": "7a7f5648-1cc7-4bc5-c3b3-6778193647bd",
        "colab": {
          "base_uri": "https://localhost:8080/",
          "height": 237
        }
      },
      "source": [
        "print(train.head())\n",
        "print(validation.head())"
      ],
      "execution_count": 0,
      "outputs": [
        {
          "output_type": "stream",
          "text": [
            "        image_id  healthy  multiple_diseases  rust  scab\n",
            "1265  Train_1265        1                  0     0     0\n",
            "1695  Train_1695        0                  0     1     0\n",
            "1132  Train_1132        0                  0     0     1\n",
            "814    Train_814        0                  0     1     0\n",
            "99      Train_99        1                  0     0     0\n",
            "        image_id  healthy  multiple_diseases  rust  scab\n",
            "757    Train_757        0                  0     0     1\n",
            "1441  Train_1441        0                  0     1     0\n",
            "1455  Train_1455        0                  0     1     0\n",
            "1189  Train_1189        0                  0     1     0\n",
            "852    Train_852        0                  0     1     0\n"
          ],
          "name": "stdout"
        }
      ]
    },
    {
      "cell_type": "code",
      "metadata": {
        "id": "pj_x54V-4QwP",
        "colab_type": "code",
        "outputId": "61339859-0e5d-4d25-f8d5-4931a3b7725f",
        "colab": {
          "base_uri": "https://localhost:8080/",
          "height": 348
        }
      },
      "source": [
        "print(train.describe())\n",
        "print(validation.describe())"
      ],
      "execution_count": 0,
      "outputs": [
        {
          "output_type": "stream",
          "text": [
            "           healthy  multiple_diseases         rust         scab\n",
            "count  1456.000000        1456.000000  1456.000000  1456.000000\n",
            "mean      0.284341           0.046703     0.346841     0.322115\n",
            "std       0.451255           0.211075     0.476128     0.467447\n",
            "min       0.000000           0.000000     0.000000     0.000000\n",
            "25%       0.000000           0.000000     0.000000     0.000000\n",
            "50%       0.000000           0.000000     0.000000     0.000000\n",
            "75%       1.000000           0.000000     1.000000     1.000000\n",
            "max       1.000000           1.000000     1.000000     1.000000\n",
            "          healthy  multiple_diseases        rust        scab\n",
            "count  365.000000         365.000000  365.000000  365.000000\n",
            "mean     0.279452           0.063014    0.320548    0.336986\n",
            "std      0.449346           0.243321    0.467328    0.473329\n",
            "min      0.000000           0.000000    0.000000    0.000000\n",
            "25%      0.000000           0.000000    0.000000    0.000000\n",
            "50%      0.000000           0.000000    0.000000    0.000000\n",
            "75%      1.000000           0.000000    1.000000    1.000000\n",
            "max      1.000000           1.000000    1.000000    1.000000\n"
          ],
          "name": "stdout"
        }
      ]
    },
    {
      "cell_type": "markdown",
      "metadata": {
        "id": "qMCwmcLo4aoU",
        "colab_type": "text"
      },
      "source": [
        "Here I write code to put the images into a sorted directory based on their class so it is easier to use ImageDataGenerator."
      ]
    },
    {
      "cell_type": "code",
      "metadata": {
        "id": "lopo97Ke4Zpu",
        "colab_type": "code",
        "colab": {}
      },
      "source": [
        "ground_truth = train\n",
        "folder = os.listdir('/content/unsorted_images')\n",
        "train_list = list(ground_truth['image_id'])\n",
        "base_dir = 'images'\n",
        "os.mkdir(base_dir)\n",
        "train_dir = os.path.join(base_dir, 'train')\n",
        "os.mkdir(train_dir)\n",
        "healthy = os.path.join(train_dir, 'healthy')\n",
        "os.mkdir(healthy)\n",
        "multiple_diseases = os.path.join(train_dir, 'multiple_diseases')\n",
        "os.mkdir(multiple_diseases)\n",
        "rust = os.path.join(train_dir, 'rust')\n",
        "os.mkdir(rust)\n",
        "scab = os.path.join(train_dir, 'scab')\n",
        "os.mkdir(scab)\n",
        "for row in ground_truth.iterrows():\n",
        "    image = row[1].image_id\n",
        "    label = row[1].index[row[1].values[1:].argmax() + 1]\n",
        "    fname = image + '.jpg'\n",
        "    if fname in folder:\n",
        "       src = os.path.join('/content/unsorted_images', fname)\n",
        "       dst = os.path.join(train_dir, label, fname)\n",
        "       shutil.copyfile(src, dst)"
      ],
      "execution_count": 0,
      "outputs": []
    },
    {
      "cell_type": "code",
      "metadata": {
        "id": "5XwYjOx_4wrA",
        "colab_type": "code",
        "colab": {}
      },
      "source": [
        "ground_truth = validation\n",
        "folder = os.listdir('/content/unsorted_images')\n",
        "train_list = list(ground_truth['image_id'])\n",
        "base_dir = 'valimages'\n",
        "os.mkdir(base_dir)\n",
        "train_dir = os.path.join(base_dir, 'validation')\n",
        "os.mkdir(train_dir)\n",
        "healthy = os.path.join(train_dir, 'healthy')\n",
        "os.mkdir(healthy)\n",
        "multiple_diseases = os.path.join(train_dir, 'multiple_diseases')\n",
        "os.mkdir(multiple_diseases)\n",
        "rust = os.path.join(train_dir, 'rust')\n",
        "os.mkdir(rust)\n",
        "scab = os.path.join(train_dir, 'scab')\n",
        "os.mkdir(scab)\n",
        "for row in ground_truth.iterrows():\n",
        "    image = row[1].image_id\n",
        "    label = row[1].index[row[1].values[1:].argmax() + 1]\n",
        "    fname = image + '.jpg'\n",
        "    if fname in folder:\n",
        "       src = os.path.join('/content/unsorted_images', fname)\n",
        "       dst = os.path.join(train_dir, label, fname)\n",
        "       shutil.copyfile(src, dst)"
      ],
      "execution_count": 0,
      "outputs": []
    },
    {
      "cell_type": "markdown",
      "metadata": {
        "id": "H5zjYJLM6HrE",
        "colab_type": "text"
      },
      "source": [
        "Now lets process the image data using Keras"
      ]
    },
    {
      "cell_type": "code",
      "metadata": {
        "id": "ReqUo_3I6K2i",
        "colab_type": "code",
        "outputId": "f53fca73-d331-40f5-dc3c-e392475b90d7",
        "colab": {
          "base_uri": "https://localhost:8080/",
          "height": 54
        }
      },
      "source": [
        "train_datagen = ImageDataGenerator(rescale = 1./255,\n",
        "\t    rotation_range=40,\n",
        "      width_shift_range=0.2,\n",
        "      height_shift_range=0.2,\n",
        "      shear_range=0.2,\n",
        "      zoom_range=0.2,\n",
        "      horizontal_flip=True,\n",
        "      fill_mode='nearest')\n",
        "\n",
        "validation_datagen = ImageDataGenerator(rescale = 1./255)\n",
        "\n",
        "train_generator = train_datagen.flow_from_directory(\n",
        "    directory = '/content/images/train',\n",
        "    class_mode = 'categorical',\n",
        "    target_size = (150,150),\n",
        "    color_mode = 'rgb'\n",
        ")\n",
        "\n",
        "validation_generator = validation_datagen.flow_from_directory(\n",
        "    directory = '/content/valimages/validation',\n",
        "    class_mode = 'categorical',\n",
        "    target_size = (150,150),\n",
        "    color_mode = 'rgb'\n",
        ")"
      ],
      "execution_count": 0,
      "outputs": [
        {
          "output_type": "stream",
          "text": [
            "Found 1456 images belonging to 4 classes.\n",
            "Found 365 images belonging to 4 classes.\n"
          ],
          "name": "stdout"
        }
      ]
    },
    {
      "cell_type": "markdown",
      "metadata": {
        "id": "EyM-x-AP8_Yn",
        "colab_type": "text"
      },
      "source": [
        "#Model Construction\n",
        "Time to construct the model. This architecture was found using trial and error. I did not want to use a pre-trained model because where's the fun in that?\n",
        "\n",
        "Since this is an image classification problem, most layers are 2D convolutions. The model performed better with no dense layers after the convolutions/before the softmax activation."
      ]
    },
    {
      "cell_type": "code",
      "metadata": {
        "id": "UaPl0Wba6cJE",
        "colab_type": "code",
        "outputId": "3b7861cc-4ee4-489e-a48a-3730ebf83015",
        "colab": {
          "base_uri": "https://localhost:8080/",
          "height": 1000
        }
      },
      "source": [
        "from keras import regularizers\n",
        "\n",
        "model = tf.keras.models.Sequential([\n",
        "    # This is the first convolution\n",
        "    tf.keras.layers.Conv2D(32, (2,2), input_shape=(150, 150, 3)),\n",
        "    tf.keras.layers.LeakyReLU(),\n",
        "    tf.keras.layers.Conv2D(32, (2,2), kernel_regularizer=regularizers.l2(0.001)),\n",
        "    tf.keras.layers.LeakyReLU(),\n",
        "    tf.keras.layers.BatchNormalization(),\n",
        "    tf.keras.layers.MaxPooling2D(2, 2),\n",
        "    tf.keras.layers.Dropout(0.2),\n",
        "    # The second convolution\n",
        "    tf.keras.layers.Conv2D(64, (3,3)),\n",
        "    tf.keras.layers.LeakyReLU(),\n",
        "    tf.keras.layers.Conv2D(64, (3,3), kernel_regularizer=regularizers.l2(0.001)),\n",
        "    tf.keras.layers.LeakyReLU(),\n",
        "    tf.keras.layers.BatchNormalization(),\n",
        "    tf.keras.layers.MaxPooling2D(2, 2),\n",
        "    tf.keras.layers.Dropout(0.2),\n",
        "    # Third conv layer\n",
        "    tf.keras.layers.Conv2D(128, (3,3)),\n",
        "    tf.keras.layers.LeakyReLU(),\n",
        "    tf.keras.layers.Conv2D(128, (3,3), kernel_regularizer=regularizers.l2(0.001)),\n",
        "    tf.keras.layers.LeakyReLU(),\n",
        "    tf.keras.layers.BatchNormalization(),\n",
        "    tf.keras.layers.MaxPooling2D(2,2),\n",
        "    tf.keras.layers.Dropout(0.2),\n",
        "    # Fourth conv layer\n",
        "    tf.keras.layers.Conv2D(256, (5,5)),\n",
        "    tf.keras.layers.LeakyReLU(),\n",
        "    tf.keras.layers.Conv2D(256, (5,5), kernel_regularizer=regularizers.l2(0.001)),\n",
        "    tf.keras.layers.LeakyReLU(),\n",
        "    tf.keras.layers.BatchNormalization(),\n",
        "    tf.keras.layers.MaxPooling2D(2,2),\n",
        "    tf.keras.layers.Dropout(0.2),\n",
        "    # Flatten the results\n",
        "    tf.keras.layers.Flatten(),\n",
        "    #tf.keras.layers.Dropout(0.4),\n",
        "    # 512 neuron hidden layer\n",
        "    #tf.keras.layers.Dense(1024, activation='relu'),\n",
        "    tf.keras.layers.Dense(4, activation='softmax')\n",
        "])\n",
        "\n",
        "model.summary()"
      ],
      "execution_count": 0,
      "outputs": [
        {
          "output_type": "stream",
          "text": [
            "Model: \"sequential_1\"\n",
            "_________________________________________________________________\n",
            "Layer (type)                 Output Shape              Param #   \n",
            "=================================================================\n",
            "conv2d_8 (Conv2D)            (None, 149, 149, 32)      416       \n",
            "_________________________________________________________________\n",
            "leaky_re_lu_8 (LeakyReLU)    (None, 149, 149, 32)      0         \n",
            "_________________________________________________________________\n",
            "conv2d_9 (Conv2D)            (None, 148, 148, 32)      4128      \n",
            "_________________________________________________________________\n",
            "leaky_re_lu_9 (LeakyReLU)    (None, 148, 148, 32)      0         \n",
            "_________________________________________________________________\n",
            "batch_normalization_4 (Batch (None, 148, 148, 32)      128       \n",
            "_________________________________________________________________\n",
            "max_pooling2d_4 (MaxPooling2 (None, 74, 74, 32)        0         \n",
            "_________________________________________________________________\n",
            "dropout_4 (Dropout)          (None, 74, 74, 32)        0         \n",
            "_________________________________________________________________\n",
            "conv2d_10 (Conv2D)           (None, 72, 72, 64)        18496     \n",
            "_________________________________________________________________\n",
            "leaky_re_lu_10 (LeakyReLU)   (None, 72, 72, 64)        0         \n",
            "_________________________________________________________________\n",
            "conv2d_11 (Conv2D)           (None, 70, 70, 64)        36928     \n",
            "_________________________________________________________________\n",
            "leaky_re_lu_11 (LeakyReLU)   (None, 70, 70, 64)        0         \n",
            "_________________________________________________________________\n",
            "batch_normalization_5 (Batch (None, 70, 70, 64)        256       \n",
            "_________________________________________________________________\n",
            "max_pooling2d_5 (MaxPooling2 (None, 35, 35, 64)        0         \n",
            "_________________________________________________________________\n",
            "dropout_5 (Dropout)          (None, 35, 35, 64)        0         \n",
            "_________________________________________________________________\n",
            "conv2d_12 (Conv2D)           (None, 33, 33, 128)       73856     \n",
            "_________________________________________________________________\n",
            "leaky_re_lu_12 (LeakyReLU)   (None, 33, 33, 128)       0         \n",
            "_________________________________________________________________\n",
            "conv2d_13 (Conv2D)           (None, 31, 31, 128)       147584    \n",
            "_________________________________________________________________\n",
            "leaky_re_lu_13 (LeakyReLU)   (None, 31, 31, 128)       0         \n",
            "_________________________________________________________________\n",
            "batch_normalization_6 (Batch (None, 31, 31, 128)       512       \n",
            "_________________________________________________________________\n",
            "max_pooling2d_6 (MaxPooling2 (None, 15, 15, 128)       0         \n",
            "_________________________________________________________________\n",
            "dropout_6 (Dropout)          (None, 15, 15, 128)       0         \n",
            "_________________________________________________________________\n",
            "conv2d_14 (Conv2D)           (None, 11, 11, 256)       819456    \n",
            "_________________________________________________________________\n",
            "leaky_re_lu_14 (LeakyReLU)   (None, 11, 11, 256)       0         \n",
            "_________________________________________________________________\n",
            "conv2d_15 (Conv2D)           (None, 7, 7, 256)         1638656   \n",
            "_________________________________________________________________\n",
            "leaky_re_lu_15 (LeakyReLU)   (None, 7, 7, 256)         0         \n",
            "_________________________________________________________________\n",
            "batch_normalization_7 (Batch (None, 7, 7, 256)         1024      \n",
            "_________________________________________________________________\n",
            "max_pooling2d_7 (MaxPooling2 (None, 3, 3, 256)         0         \n",
            "_________________________________________________________________\n",
            "dropout_7 (Dropout)          (None, 3, 3, 256)         0         \n",
            "_________________________________________________________________\n",
            "flatten_1 (Flatten)          (None, 2304)              0         \n",
            "_________________________________________________________________\n",
            "dense_1 (Dense)              (None, 4)                 9220      \n",
            "=================================================================\n",
            "Total params: 2,750,660\n",
            "Trainable params: 2,749,700\n",
            "Non-trainable params: 960\n",
            "_________________________________________________________________\n"
          ],
          "name": "stdout"
        }
      ]
    },
    {
      "cell_type": "code",
      "metadata": {
        "id": "_VP7yscwMDnP",
        "colab_type": "code",
        "outputId": "aa114e44-c8e4-46b7-b51d-f7fe04fec0f6",
        "colab": {
          "base_uri": "https://localhost:8080/",
          "height": 1000
        }
      },
      "source": [
        "model.compile(loss = 'categorical_crossentropy', optimizer = 'adam', metrics = ['accuracy'])\n",
        "\n",
        "history = model.fit_generator(train_generator, epochs=50, validation_data = validation_generator, verbose=1)"
      ],
      "execution_count": 0,
      "outputs": [
        {
          "output_type": "stream",
          "text": [
            "Epoch 1/50\n",
            "45/46 [============================>.] - ETA: 1s - loss: 2.1569 - acc: 0.3490Epoch 1/50\n",
            "46/46 [==============================] - 73s 2s/step - loss: 2.1623 - acc: 0.3503 - val_loss: 1.8318 - val_acc: 0.3233\n",
            "Epoch 2/50\n",
            "45/46 [============================>.] - ETA: 0s - loss: 1.8958 - acc: 0.3778Epoch 1/50\n",
            "46/46 [==============================] - 61s 1s/step - loss: 1.8929 - acc: 0.3764 - val_loss: 1.7045 - val_acc: 0.3370\n",
            "Epoch 3/50\n",
            "45/46 [============================>.] - ETA: 0s - loss: 1.6957 - acc: 0.4213Epoch 1/50\n",
            "46/46 [==============================] - 61s 1s/step - loss: 1.6890 - acc: 0.4251 - val_loss: 1.7556 - val_acc: 0.3370\n",
            "Epoch 4/50\n",
            "45/46 [============================>.] - ETA: 0s - loss: 1.5408 - acc: 0.4916Epoch 1/50\n",
            "46/46 [==============================] - 62s 1s/step - loss: 1.5409 - acc: 0.4931 - val_loss: 1.6534 - val_acc: 0.3370\n",
            "Epoch 5/50\n",
            "45/46 [============================>.] - ETA: 0s - loss: 1.3639 - acc: 0.5709Epoch 1/50\n",
            "46/46 [==============================] - 61s 1s/step - loss: 1.3550 - acc: 0.5742 - val_loss: 1.7615 - val_acc: 0.3616\n",
            "Epoch 6/50\n",
            "45/46 [============================>.] - ETA: 0s - loss: 1.1346 - acc: 0.6496Epoch 1/50\n",
            "46/46 [==============================] - 61s 1s/step - loss: 1.1261 - acc: 0.6532 - val_loss: 1.9499 - val_acc: 0.3205\n",
            "Epoch 7/50\n",
            "45/46 [============================>.] - ETA: 0s - loss: 1.0087 - acc: 0.6987Epoch 1/50\n",
            "46/46 [==============================] - 62s 1s/step - loss: 1.0014 - acc: 0.7012 - val_loss: 1.7094 - val_acc: 0.4000\n",
            "Epoch 8/50\n",
            "45/46 [============================>.] - ETA: 0s - loss: 0.9720 - acc: 0.7163Epoch 1/50\n",
            "46/46 [==============================] - 61s 1s/step - loss: 0.9707 - acc: 0.7163 - val_loss: 1.6307 - val_acc: 0.4356\n",
            "Epoch 9/50\n",
            "45/46 [============================>.] - ETA: 0s - loss: 0.9056 - acc: 0.7121Epoch 1/50\n",
            "46/46 [==============================] - 61s 1s/step - loss: 0.9020 - acc: 0.7136 - val_loss: 1.9497 - val_acc: 0.3616\n",
            "Epoch 10/50\n",
            "45/46 [============================>.] - ETA: 0s - loss: 0.8734 - acc: 0.7331Epoch 1/50\n",
            "46/46 [==============================] - 62s 1s/step - loss: 0.8724 - acc: 0.7335 - val_loss: 1.4055 - val_acc: 0.4411\n",
            "Epoch 11/50\n",
            "45/46 [============================>.] - ETA: 0s - loss: 0.8040 - acc: 0.7654Epoch 1/50\n",
            "46/46 [==============================] - 62s 1s/step - loss: 0.8058 - acc: 0.7651 - val_loss: 1.2808 - val_acc: 0.6027\n",
            "Epoch 12/50\n",
            "45/46 [============================>.] - ETA: 0s - loss: 0.9025 - acc: 0.7317Epoch 1/50\n",
            "46/46 [==============================] - 62s 1s/step - loss: 0.8998 - acc: 0.7335 - val_loss: 0.7032 - val_acc: 0.8055\n",
            "Epoch 13/50\n",
            "45/46 [============================>.] - ETA: 0s - loss: 0.7691 - acc: 0.7879Epoch 1/50\n",
            "46/46 [==============================] - 61s 1s/step - loss: 0.7672 - acc: 0.7871 - val_loss: 3.3640 - val_acc: 0.4740\n",
            "Epoch 14/50\n",
            "45/46 [============================>.] - ETA: 0s - loss: 0.7646 - acc: 0.7886Epoch 1/50\n",
            "46/46 [==============================] - 61s 1s/step - loss: 0.7594 - acc: 0.7905 - val_loss: 0.9834 - val_acc: 0.6932\n",
            "Epoch 15/50\n",
            "45/46 [============================>.] - ETA: 0s - loss: 0.7493 - acc: 0.8020Epoch 1/50\n",
            "46/46 [==============================] - 61s 1s/step - loss: 0.7492 - acc: 0.7995 - val_loss: 0.6473 - val_acc: 0.8356\n",
            "Epoch 16/50\n",
            "45/46 [============================>.] - ETA: 0s - loss: 0.7295 - acc: 0.7893Epoch 1/50\n",
            "46/46 [==============================] - 61s 1s/step - loss: 0.7272 - acc: 0.7905 - val_loss: 0.7104 - val_acc: 0.7918\n",
            "Epoch 17/50\n",
            "45/46 [============================>.] - ETA: 0s - loss: 0.6613 - acc: 0.8357Epoch 1/50\n",
            "46/46 [==============================] - 61s 1s/step - loss: 0.6604 - acc: 0.8352 - val_loss: 0.9537 - val_acc: 0.7726\n",
            "Epoch 18/50\n",
            "45/46 [============================>.] - ETA: 0s - loss: 0.6511 - acc: 0.8294Epoch 1/50\n",
            "46/46 [==============================] - 61s 1s/step - loss: 0.6481 - acc: 0.8304 - val_loss: 0.6167 - val_acc: 0.8521\n",
            "Epoch 19/50\n",
            "45/46 [============================>.] - ETA: 0s - loss: 0.6096 - acc: 0.8385Epoch 1/50\n",
            "46/46 [==============================] - 61s 1s/step - loss: 0.6073 - acc: 0.8386 - val_loss: 0.5349 - val_acc: 0.8685\n",
            "Epoch 20/50\n",
            "45/46 [============================>.] - ETA: 0s - loss: 0.6178 - acc: 0.8455Epoch 1/50\n",
            "46/46 [==============================] - 62s 1s/step - loss: 0.6252 - acc: 0.8455 - val_loss: 0.5932 - val_acc: 0.8521\n",
            "Epoch 21/50\n",
            "45/46 [============================>.] - ETA: 0s - loss: 0.6949 - acc: 0.8336Epoch 1/50\n",
            "46/46 [==============================] - 62s 1s/step - loss: 0.6971 - acc: 0.8324 - val_loss: 0.8274 - val_acc: 0.7644\n",
            "Epoch 22/50\n",
            "45/46 [============================>.] - ETA: 0s - loss: 0.6371 - acc: 0.8413Epoch 1/50\n",
            "46/46 [==============================] - 61s 1s/step - loss: 0.6393 - acc: 0.8407 - val_loss: 0.6313 - val_acc: 0.8384\n",
            "Epoch 23/50\n",
            "45/46 [============================>.] - ETA: 0s - loss: 0.6083 - acc: 0.8469Epoch 1/50\n",
            "46/46 [==============================] - 61s 1s/step - loss: 0.6096 - acc: 0.8462 - val_loss: 0.6383 - val_acc: 0.8247\n",
            "Epoch 24/50\n",
            "45/46 [============================>.] - ETA: 0s - loss: 0.6048 - acc: 0.8610Epoch 1/50\n",
            "46/46 [==============================] - 61s 1s/step - loss: 0.6134 - acc: 0.8592 - val_loss: 1.7765 - val_acc: 0.6658\n",
            "Epoch 25/50\n",
            "45/46 [============================>.] - ETA: 0s - loss: 0.5610 - acc: 0.8666Epoch 1/50\n",
            "46/46 [==============================] - 61s 1s/step - loss: 0.5620 - acc: 0.8654 - val_loss: 1.0822 - val_acc: 0.7534\n",
            "Epoch 26/50\n",
            "45/46 [============================>.] - ETA: 0s - loss: 0.5958 - acc: 0.8617Epoch 1/50\n",
            "46/46 [==============================] - 62s 1s/step - loss: 0.5973 - acc: 0.8606 - val_loss: 0.8553 - val_acc: 0.7616\n",
            "Epoch 27/50\n",
            "45/46 [============================>.] - ETA: 0s - loss: 0.5602 - acc: 0.8624Epoch 1/50\n",
            "46/46 [==============================] - 62s 1s/step - loss: 0.5599 - acc: 0.8620 - val_loss: 0.5661 - val_acc: 0.8904\n",
            "Epoch 28/50\n",
            "45/46 [============================>.] - ETA: 0s - loss: 0.5609 - acc: 0.8581Epoch 1/50\n",
            "46/46 [==============================] - 61s 1s/step - loss: 0.5549 - acc: 0.8606 - val_loss: 0.5545 - val_acc: 0.8630\n",
            "Epoch 29/50\n",
            "45/46 [============================>.] - ETA: 0s - loss: 0.5894 - acc: 0.8624Epoch 1/50\n",
            "46/46 [==============================] - 61s 1s/step - loss: 0.5986 - acc: 0.8620 - val_loss: 0.4727 - val_acc: 0.8877\n",
            "Epoch 30/50\n",
            "45/46 [============================>.] - ETA: 0s - loss: 0.6036 - acc: 0.8560Epoch 1/50\n",
            "46/46 [==============================] - 62s 1s/step - loss: 0.5966 - acc: 0.8578 - val_loss: 0.6302 - val_acc: 0.8521\n",
            "Epoch 31/50\n",
            "45/46 [============================>.] - ETA: 0s - loss: 0.5213 - acc: 0.8785Epoch 1/50\n",
            "46/46 [==============================] - 61s 1s/step - loss: 0.5175 - acc: 0.8791 - val_loss: 0.6048 - val_acc: 0.8466\n",
            "Epoch 32/50\n",
            "45/46 [============================>.] - ETA: 0s - loss: 0.5350 - acc: 0.8645Epoch 1/50\n",
            "46/46 [==============================] - 61s 1s/step - loss: 0.5378 - acc: 0.8633 - val_loss: 0.4929 - val_acc: 0.8986\n",
            "Epoch 33/50\n",
            "45/46 [============================>.] - ETA: 0s - loss: 0.5086 - acc: 0.8743Epoch 1/50\n",
            "46/46 [==============================] - 61s 1s/step - loss: 0.5114 - acc: 0.8736 - val_loss: 0.6449 - val_acc: 0.8603\n",
            "Epoch 34/50\n",
            "45/46 [============================>.] - ETA: 0s - loss: 0.5571 - acc: 0.8694Epoch 1/50\n",
            "46/46 [==============================] - 61s 1s/step - loss: 0.5574 - acc: 0.8695 - val_loss: 0.5029 - val_acc: 0.8932\n",
            "Epoch 35/50\n",
            "45/46 [============================>.] - ETA: 0s - loss: 0.5010 - acc: 0.8813Epoch 1/50\n",
            "46/46 [==============================] - 61s 1s/step - loss: 0.5111 - acc: 0.8784 - val_loss: 0.4698 - val_acc: 0.8685\n",
            "Epoch 36/50\n",
            "45/46 [============================>.] - ETA: 0s - loss: 0.5105 - acc: 0.8750Epoch 1/50\n",
            "46/46 [==============================] - 62s 1s/step - loss: 0.5116 - acc: 0.8743 - val_loss: 0.6837 - val_acc: 0.7671\n",
            "Epoch 37/50\n",
            "45/46 [============================>.] - ETA: 0s - loss: 0.5237 - acc: 0.8680Epoch 1/50\n",
            "46/46 [==============================] - 61s 1s/step - loss: 0.5230 - acc: 0.8681 - val_loss: 0.5366 - val_acc: 0.8630\n",
            "Epoch 38/50\n",
            "45/46 [============================>.] - ETA: 0s - loss: 0.4983 - acc: 0.8785Epoch 1/50\n",
            "46/46 [==============================] - 62s 1s/step - loss: 0.4933 - acc: 0.8805 - val_loss: 0.4974 - val_acc: 0.8932\n",
            "Epoch 39/50\n",
            "45/46 [============================>.] - ETA: 0s - loss: 0.4743 - acc: 0.8820Epoch 1/50\n",
            "46/46 [==============================] - 63s 1s/step - loss: 0.4709 - acc: 0.8826 - val_loss: 1.4573 - val_acc: 0.7041\n",
            "Epoch 40/50\n",
            "45/46 [============================>.] - ETA: 0s - loss: 0.5021 - acc: 0.8806Epoch 1/50\n",
            "46/46 [==============================] - 62s 1s/step - loss: 0.5088 - acc: 0.8771 - val_loss: 0.5518 - val_acc: 0.8877\n",
            "Epoch 41/50\n",
            "45/46 [============================>.] - ETA: 0s - loss: 0.4964 - acc: 0.8792Epoch 1/50\n",
            "46/46 [==============================] - 62s 1s/step - loss: 0.4939 - acc: 0.8805 - val_loss: 0.4919 - val_acc: 0.9014\n",
            "Epoch 42/50\n",
            "45/46 [============================>.] - ETA: 0s - loss: 0.5021 - acc: 0.8757Epoch 1/50\n",
            "46/46 [==============================] - 63s 1s/step - loss: 0.4969 - acc: 0.8777 - val_loss: 0.4948 - val_acc: 0.9178\n",
            "Epoch 43/50\n",
            "45/46 [============================>.] - ETA: 0s - loss: 0.4601 - acc: 0.8890Epoch 1/50\n",
            "46/46 [==============================] - 61s 1s/step - loss: 0.4625 - acc: 0.8894 - val_loss: 0.5524 - val_acc: 0.8986\n",
            "Epoch 44/50\n",
            "45/46 [============================>.] - ETA: 0s - loss: 0.4718 - acc: 0.8876Epoch 1/50\n",
            "46/46 [==============================] - 62s 1s/step - loss: 0.4858 - acc: 0.8860 - val_loss: 0.6523 - val_acc: 0.8548\n",
            "Epoch 45/50\n",
            "45/46 [============================>.] - ETA: 0s - loss: 0.4910 - acc: 0.8869Epoch 1/50\n",
            "46/46 [==============================] - 62s 1s/step - loss: 0.4937 - acc: 0.8867 - val_loss: 0.6383 - val_acc: 0.8630\n",
            "Epoch 46/50\n",
            "45/46 [============================>.] - ETA: 0s - loss: 0.4516 - acc: 0.8897Epoch 1/50\n",
            "46/46 [==============================] - 62s 1s/step - loss: 0.4501 - acc: 0.8908 - val_loss: 0.5773 - val_acc: 0.8932\n",
            "Epoch 47/50\n",
            "45/46 [============================>.] - ETA: 0s - loss: 0.5338 - acc: 0.8729Epoch 1/50\n",
            "46/46 [==============================] - 61s 1s/step - loss: 0.5288 - acc: 0.8743 - val_loss: 0.6910 - val_acc: 0.7562\n",
            "Epoch 48/50\n",
            "45/46 [============================>.] - ETA: 0s - loss: 0.4963 - acc: 0.8799Epoch 1/50\n",
            "46/46 [==============================] - 61s 1s/step - loss: 0.4969 - acc: 0.8784 - val_loss: 0.5689 - val_acc: 0.8740\n",
            "Epoch 49/50\n",
            "45/46 [============================>.] - ETA: 0s - loss: 0.4178 - acc: 0.9045Epoch 1/50\n",
            "46/46 [==============================] - 62s 1s/step - loss: 0.4190 - acc: 0.9032 - val_loss: 0.3687 - val_acc: 0.9233\n",
            "Epoch 50/50\n",
            "45/46 [============================>.] - ETA: 0s - loss: 0.4676 - acc: 0.8876Epoch 1/50\n",
            "46/46 [==============================] - 62s 1s/step - loss: 0.4694 - acc: 0.8880 - val_loss: 0.4654 - val_acc: 0.8822\n"
          ],
          "name": "stdout"
        }
      ]
    },
    {
      "cell_type": "markdown",
      "metadata": {
        "id": "rjRErzwjB2Ag",
        "colab_type": "text"
      },
      "source": [
        "Plot of the model accuracy and loss of train and validation sets."
      ]
    },
    {
      "cell_type": "code",
      "metadata": {
        "id": "IW8n_JAgBvSR",
        "colab_type": "code",
        "outputId": "d546789a-b849-4a73-ff25-79bba41be577",
        "colab": {
          "base_uri": "https://localhost:8080/",
          "height": 563
        }
      },
      "source": [
        "import matplotlib.pyplot as plt\n",
        "acc = history.history['acc']\n",
        "val_acc = history.history['val_acc']\n",
        "loss = history.history['loss']\n",
        "val_loss = history.history['val_loss']\n",
        "\n",
        "epochs = range(len(acc))\n",
        "\n",
        "plt.plot(epochs, acc, 'r', label='Training accuracy')\n",
        "plt.plot(epochs, val_acc, 'b', label='Validation accuracy')\n",
        "plt.title('Training and validation accuracy')\n",
        "plt.legend(loc=0)\n",
        "plt.figure()\n",
        "\n",
        "plt.plot(epochs, loss, 'r', label='Training loss')\n",
        "plt.plot(epochs, val_loss, 'b', label='Validation loss')\n",
        "plt.title('Training and validation loss')\n",
        "plt.legend(loc=0)\n",
        "plt.figure()\n",
        "\n",
        "plt.show()"
      ],
      "execution_count": 0,
      "outputs": [
        {
          "output_type": "display_data",
          "data": {
            "image/png": "[encoded data removed]",
            "text/plain": [
              "<Figure size 432x288 with 1 Axes>"
            ]
          },
          "metadata": {
            "tags": []
          }
        },
        {
          "output_type": "display_data",
          "data": {
            "image/png": "[encoded data removed]",
            "text/plain": [
              "<Figure size 432x288 with 1 Axes>"
            ]
          },
          "metadata": {
            "tags": []
          }
        },
        {
          "output_type": "display_data",
          "data": {
            "text/plain": [
              "<Figure size 432x288 with 0 Axes>"
            ]
          },
          "metadata": {
            "tags": []
          }
        }
      ]
    },
    {
      "cell_type": "code",
      "metadata": {
        "id": "jLUwP8r3ehLj",
        "colab_type": "code",
        "colab": {}
      },
      "source": [
        "model.save('plantmodel.h5')"
      ],
      "execution_count": 0,
      "outputs": []
    },
    {
      "cell_type": "code",
      "metadata": {
        "id": "eLyHmHwcnMy1",
        "colab_type": "code",
        "outputId": "9e2ab207-b630-4120-f670-f5b4c7550218",
        "colab": {
          "base_uri": "https://localhost:8080/",
          "height": 67,
          "referenced_widgets": [
            "6587ee5e7d59412a98280d7b9bc66e5a",
            "c41fbaa7e1a3403995aaf395a86371bd",
            "ab47202bfd9d455986b39a0129fea394",
            "922d799ba7954fcab80a41603683923f",
            "53aff0aa7bd74a44bad4e7ab03d9acdc",
            "1d3790108cda4f60960e934d93c35609",
            "7d91e6f2e718431b9e0b1114df224c30",
            "bcaa8aa024ae4955aa77f0847e656fd2"
          ]
        }
      },
      "source": [
        "from PIL import Image\n",
        "from tqdm.notebook import tqdm\n",
        "test = pd.read_csv('test.csv')\n",
        "test_len = test.shape[0]\n",
        "SIZE=150\n",
        "PATH = '/content/drive/My Drive/testimages'\n",
        "test_images = np.empty((test_len, SIZE, SIZE, 3))\n",
        "for i in tqdm(range(test_len)):\n",
        "    test_images[i] = np.uint8(Image.open(PATH + f'/Test_{i}.jpg').resize((SIZE, SIZE)))"
      ],
      "execution_count": 0,
      "outputs": [
        {
          "output_type": "display_data",
          "data": {
            "application/vnd.jupyter.widget-view+json": {
              "model_id": "6587ee5e7d59412a98280d7b9bc66e5a",
              "version_minor": 0,
              "version_major": 2
            },
            "text/plain": [
              "HBox(children=(IntProgress(value=0, max=1821), HTML(value='')))"
            ]
          },
          "metadata": {
            "tags": []
          }
        },
        {
          "output_type": "stream",
          "text": [
            "\n"
          ],
          "name": "stdout"
        }
      ]
    },
    {
      "cell_type": "code",
      "metadata": {
        "id": "TbCm2OIimSY8",
        "colab_type": "code",
        "colab": {}
      },
      "source": [
        "probabilities = model.predict(test_images)"
      ],
      "execution_count": 0,
      "outputs": []
    },
    {
      "cell_type": "code",
      "metadata": {
        "id": "ymuGfZhloLjr",
        "colab_type": "code",
        "outputId": "ef787c20-4591-4f35-ccab-3770845484ec",
        "colab": {
          "base_uri": "https://localhost:8080/",
          "height": 146
        }
      },
      "source": [
        "print(probabilities)"
      ],
      "execution_count": 0,
      "outputs": [
        {
          "output_type": "stream",
          "text": [
            "[[0.000000e+00 0.000000e+00 1.000000e+00 0.000000e+00]\n",
            " [0.000000e+00 0.000000e+00 1.000000e+00 0.000000e+00]\n",
            " [0.000000e+00 0.000000e+00 1.000000e+00 0.000000e+00]\n",
            " ...\n",
            " [0.000000e+00 0.000000e+00 1.000000e+00 0.000000e+00]\n",
            " [1.000000e+00 0.000000e+00 1.011384e-27 0.000000e+00]\n",
            " [0.000000e+00 0.000000e+00 1.000000e+00 0.000000e+00]]\n"
          ],
          "name": "stdout"
        }
      ]
    },
    {
      "cell_type": "code",
      "metadata": {
        "id": "KhcCkvWe4z-w",
        "colab_type": "code",
        "outputId": "f9275eb5-ed33-42c3-9463-afa443ced936",
        "colab": {
          "base_uri": "https://localhost:8080/",
          "height": 35
        }
      },
      "source": [
        "type(probabilities)"
      ],
      "execution_count": 0,
      "outputs": [
        {
          "output_type": "execute_result",
          "data": {
            "text/plain": [
              "numpy.ndarray"
            ]
          },
          "metadata": {
            "tags": []
          },
          "execution_count": 52
        }
      ]
    },
    {
      "cell_type": "code",
      "metadata": {
        "id": "CR8l8Slh5ERT",
        "colab_type": "code",
        "colab": {}
      },
      "source": [
        "probs_df = pd.DataFrame(data=probabilities, columns=[\"healthy\", \"multiple_diseases\", \"rust\", \"scab\"])"
      ],
      "execution_count": 0,
      "outputs": []
    },
    {
      "cell_type": "code",
      "metadata": {
        "id": "33-WFYc55jgf",
        "colab_type": "code",
        "outputId": "a0578d14-d9ec-474e-c95b-e9710111d923",
        "colab": {
          "base_uri": "https://localhost:8080/",
          "height": 206
        }
      },
      "source": [
        "probs_df.head()"
      ],
      "execution_count": 0,
      "outputs": [
        {
          "output_type": "execute_result",
          "data": {
            "text/html": [
              "<div>\n",
              "<style scoped>\n",
              "    .dataframe tbody tr th:only-of-type {\n",
              "        vertical-align: middle;\n",
              "    }\n",
              "\n",
              "    .dataframe tbody tr th {\n",
              "        vertical-align: top;\n",
              "    }\n",
              "\n",
              "    .dataframe thead th {\n",
              "        text-align: right;\n",
              "    }\n",
              "</style>\n",
              "<table border=\"1\" class=\"dataframe\">\n",
              "  <thead>\n",
              "    <tr style=\"text-align: right;\">\n",
              "      <th></th>\n",
              "      <th>healthy</th>\n",
              "      <th>multiple_diseases</th>\n",
              "      <th>rust</th>\n",
              "      <th>scab</th>\n",
              "    </tr>\n",
              "  </thead>\n",
              "  <tbody>\n",
              "    <tr>\n",
              "      <th>0</th>\n",
              "      <td>0.0</td>\n",
              "      <td>0.0</td>\n",
              "      <td>1.0</td>\n",
              "      <td>0.0</td>\n",
              "    </tr>\n",
              "    <tr>\n",
              "      <th>1</th>\n",
              "      <td>0.0</td>\n",
              "      <td>0.0</td>\n",
              "      <td>1.0</td>\n",
              "      <td>0.0</td>\n",
              "    </tr>\n",
              "    <tr>\n",
              "      <th>2</th>\n",
              "      <td>0.0</td>\n",
              "      <td>0.0</td>\n",
              "      <td>1.0</td>\n",
              "      <td>0.0</td>\n",
              "    </tr>\n",
              "    <tr>\n",
              "      <th>3</th>\n",
              "      <td>1.0</td>\n",
              "      <td>0.0</td>\n",
              "      <td>0.0</td>\n",
              "      <td>0.0</td>\n",
              "    </tr>\n",
              "    <tr>\n",
              "      <th>4</th>\n",
              "      <td>0.0</td>\n",
              "      <td>0.0</td>\n",
              "      <td>1.0</td>\n",
              "      <td>0.0</td>\n",
              "    </tr>\n",
              "  </tbody>\n",
              "</table>\n",
              "</div>"
            ],
            "text/plain": [
              "   healthy  multiple_diseases  rust  scab\n",
              "0      0.0                0.0   1.0   0.0\n",
              "1      0.0                0.0   1.0   0.0\n",
              "2      0.0                0.0   1.0   0.0\n",
              "3      1.0                0.0   0.0   0.0\n",
              "4      0.0                0.0   1.0   0.0"
            ]
          },
          "metadata": {
            "tags": []
          },
          "execution_count": 55
        }
      ]
    },
    {
      "cell_type": "code",
      "metadata": {
        "id": "L9SFdNlg5o1l",
        "colab_type": "code",
        "colab": {}
      },
      "source": [
        "submission = pd.concat([test['image_id'], probs_df], axis=1)"
      ],
      "execution_count": 0,
      "outputs": []
    },
    {
      "cell_type": "code",
      "metadata": {
        "id": "o9ZQ_ByM58aq",
        "colab_type": "code",
        "outputId": "352cfeec-a428-4eef-e79f-1ec0fdcd1cc4",
        "colab": {
          "base_uri": "https://localhost:8080/",
          "height": 206
        }
      },
      "source": [
        "submission.head()"
      ],
      "execution_count": 0,
      "outputs": [
        {
          "output_type": "execute_result",
          "data": {
            "text/html": [
              "<div>\n",
              "<style scoped>\n",
              "    .dataframe tbody tr th:only-of-type {\n",
              "        vertical-align: middle;\n",
              "    }\n",
              "\n",
              "    .dataframe tbody tr th {\n",
              "        vertical-align: top;\n",
              "    }\n",
              "\n",
              "    .dataframe thead th {\n",
              "        text-align: right;\n",
              "    }\n",
              "</style>\n",
              "<table border=\"1\" class=\"dataframe\">\n",
              "  <thead>\n",
              "    <tr style=\"text-align: right;\">\n",
              "      <th></th>\n",
              "      <th>image_id</th>\n",
              "      <th>healthy</th>\n",
              "      <th>multiple_diseases</th>\n",
              "      <th>rust</th>\n",
              "      <th>scab</th>\n",
              "    </tr>\n",
              "  </thead>\n",
              "  <tbody>\n",
              "    <tr>\n",
              "      <th>0</th>\n",
              "      <td>Test_0</td>\n",
              "      <td>0.0</td>\n",
              "      <td>0.0</td>\n",
              "      <td>1.0</td>\n",
              "      <td>0.0</td>\n",
              "    </tr>\n",
              "    <tr>\n",
              "      <th>1</th>\n",
              "      <td>Test_1</td>\n",
              "      <td>0.0</td>\n",
              "      <td>0.0</td>\n",
              "      <td>1.0</td>\n",
              "      <td>0.0</td>\n",
              "    </tr>\n",
              "    <tr>\n",
              "      <th>2</th>\n",
              "      <td>Test_2</td>\n",
              "      <td>0.0</td>\n",
              "      <td>0.0</td>\n",
              "      <td>1.0</td>\n",
              "      <td>0.0</td>\n",
              "    </tr>\n",
              "    <tr>\n",
              "      <th>3</th>\n",
              "      <td>Test_3</td>\n",
              "      <td>1.0</td>\n",
              "      <td>0.0</td>\n",
              "      <td>0.0</td>\n",
              "      <td>0.0</td>\n",
              "    </tr>\n",
              "    <tr>\n",
              "      <th>4</th>\n",
              "      <td>Test_4</td>\n",
              "      <td>0.0</td>\n",
              "      <td>0.0</td>\n",
              "      <td>1.0</td>\n",
              "      <td>0.0</td>\n",
              "    </tr>\n",
              "  </tbody>\n",
              "</table>\n",
              "</div>"
            ],
            "text/plain": [
              "  image_id  healthy  multiple_diseases  rust  scab\n",
              "0   Test_0      0.0                0.0   1.0   0.0\n",
              "1   Test_1      0.0                0.0   1.0   0.0\n",
              "2   Test_2      0.0                0.0   1.0   0.0\n",
              "3   Test_3      1.0                0.0   0.0   0.0\n",
              "4   Test_4      0.0                0.0   1.0   0.0"
            ]
          },
          "metadata": {
            "tags": []
          },
          "execution_count": 59
        }
      ]
    },
    {
      "cell_type": "code",
      "metadata": {
        "id": "myMpg_FB5_IB",
        "colab_type": "code",
        "outputId": "41a7dda4-8ab1-46bc-db3f-a807ae595b68",
        "colab": {
          "base_uri": "https://localhost:8080/",
          "height": 300
        }
      },
      "source": [
        "submission.describe()"
      ],
      "execution_count": 0,
      "outputs": [
        {
          "output_type": "execute_result",
          "data": {
            "text/html": [
              "<div>\n",
              "<style scoped>\n",
              "    .dataframe tbody tr th:only-of-type {\n",
              "        vertical-align: middle;\n",
              "    }\n",
              "\n",
              "    .dataframe tbody tr th {\n",
              "        vertical-align: top;\n",
              "    }\n",
              "\n",
              "    .dataframe thead th {\n",
              "        text-align: right;\n",
              "    }\n",
              "</style>\n",
              "<table border=\"1\" class=\"dataframe\">\n",
              "  <thead>\n",
              "    <tr style=\"text-align: right;\">\n",
              "      <th></th>\n",
              "      <th>healthy</th>\n",
              "      <th>multiple_diseases</th>\n",
              "      <th>rust</th>\n",
              "      <th>scab</th>\n",
              "    </tr>\n",
              "  </thead>\n",
              "  <tbody>\n",
              "    <tr>\n",
              "      <th>count</th>\n",
              "      <td>1821.000000</td>\n",
              "      <td>1821.000000</td>\n",
              "      <td>1821.000000</td>\n",
              "      <td>1821.000000</td>\n",
              "    </tr>\n",
              "    <tr>\n",
              "      <th>mean</th>\n",
              "      <td>0.131248</td>\n",
              "      <td>0.091566</td>\n",
              "      <td>0.776674</td>\n",
              "      <td>0.000512</td>\n",
              "    </tr>\n",
              "    <tr>\n",
              "      <th>std</th>\n",
              "      <td>0.337368</td>\n",
              "      <td>0.288139</td>\n",
              "      <td>0.416066</td>\n",
              "      <td>0.021837</td>\n",
              "    </tr>\n",
              "    <tr>\n",
              "      <th>min</th>\n",
              "      <td>0.000000</td>\n",
              "      <td>0.000000</td>\n",
              "      <td>0.000000</td>\n",
              "      <td>0.000000</td>\n",
              "    </tr>\n",
              "    <tr>\n",
              "      <th>25%</th>\n",
              "      <td>0.000000</td>\n",
              "      <td>0.000000</td>\n",
              "      <td>1.000000</td>\n",
              "      <td>0.000000</td>\n",
              "    </tr>\n",
              "    <tr>\n",
              "      <th>50%</th>\n",
              "      <td>0.000000</td>\n",
              "      <td>0.000000</td>\n",
              "      <td>1.000000</td>\n",
              "      <td>0.000000</td>\n",
              "    </tr>\n",
              "    <tr>\n",
              "      <th>75%</th>\n",
              "      <td>0.000000</td>\n",
              "      <td>0.000000</td>\n",
              "      <td>1.000000</td>\n",
              "      <td>0.000000</td>\n",
              "    </tr>\n",
              "    <tr>\n",
              "      <th>max</th>\n",
              "      <td>1.000000</td>\n",
              "      <td>1.000000</td>\n",
              "      <td>1.000000</td>\n",
              "      <td>0.931880</td>\n",
              "    </tr>\n",
              "  </tbody>\n",
              "</table>\n",
              "</div>"
            ],
            "text/plain": [
              "           healthy  multiple_diseases         rust         scab\n",
              "count  1821.000000        1821.000000  1821.000000  1821.000000\n",
              "mean      0.131248           0.091566     0.776674     0.000512\n",
              "std       0.337368           0.288139     0.416066     0.021837\n",
              "min       0.000000           0.000000     0.000000     0.000000\n",
              "25%       0.000000           0.000000     1.000000     0.000000\n",
              "50%       0.000000           0.000000     1.000000     0.000000\n",
              "75%       0.000000           0.000000     1.000000     0.000000\n",
              "max       1.000000           1.000000     1.000000     0.931880"
            ]
          },
          "metadata": {
            "tags": []
          },
          "execution_count": 60
        }
      ]
    },
    {
      "cell_type": "code",
      "metadata": {
        "id": "4Ak6gfLX6EAw",
        "colab_type": "code",
        "colab": {}
      },
      "source": [
        "submission.to_csv('submission.csv', index = False)"
      ],
      "execution_count": 0,
      "outputs": []
    }
  ]
}