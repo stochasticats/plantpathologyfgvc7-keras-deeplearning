{
  "nbformat": 4,
  "nbformat_minor": 0,
  "metadata": {
    "colab": {
      "name": "plantpathologyfgvc7_deeplearning_custommodel.ipynb",
      "provenance": [],
      "collapsed_sections": [],
      "machine_shape": "hm",
      "mount_file_id": "16c2GBHiERMV4UQ_d5L1CLS0IrW3eOgd4",
      "authorship_tag": "ABX9TyPAPkBhps/2YeKvqRvGYoXQ",
      "include_colab_link": true
    },
    "kernelspec": {
      "name": "python3",
      "display_name": "Python 3"
    },
    "accelerator": "GPU",
    "widgets": {
      "application/vnd.jupyter.widget-state+json": {
        "261fe3b2a1ab416cb7b0e510bd121a3f": {
          "model_module": "@jupyter-widgets/controls",
          "model_name": "HBoxModel",
          "state": {
            "_view_name": "HBoxView",
            "_dom_classes": [],
            "_model_name": "HBoxModel",
            "_view_module": "@jupyter-widgets/controls",
            "_model_module_version": "1.5.0",
            "_view_count": null,
            "_view_module_version": "1.5.0",
            "box_style": "",
            "layout": "IPY_MODEL_27b4d0097d6e4391883e7a7f3e1c4d37",
            "_model_module": "@jupyter-widgets/controls",
            "children": [
              "IPY_MODEL_17214d6386eb471095d2dac4796a1819",
              "IPY_MODEL_6631855c50724c759055cf4c60dda82e"
            ]
          }
        },
        "27b4d0097d6e4391883e7a7f3e1c4d37": {
          "model_module": "@jupyter-widgets/base",
          "model_name": "LayoutModel",
          "state": {
            "_view_name": "LayoutView",
            "grid_template_rows": null,
            "right": null,
            "justify_content": null,
            "_view_module": "@jupyter-widgets/base",
            "overflow": null,
            "_model_module_version": "1.2.0",
            "_view_count": null,
            "flex_flow": null,
            "width": null,
            "min_width": null,
            "border": null,
            "align_items": null,
            "bottom": null,
            "_model_module": "@jupyter-widgets/base",
            "top": null,
            "grid_column": null,
            "overflow_y": null,
            "overflow_x": null,
            "grid_auto_flow": null,
            "grid_area": null,
            "grid_template_columns": null,
            "flex": null,
            "_model_name": "LayoutModel",
            "justify_items": null,
            "grid_row": null,
            "max_height": null,
            "align_content": null,
            "visibility": null,
            "align_self": null,
            "height": null,
            "min_height": null,
            "padding": null,
            "grid_auto_rows": null,
            "grid_gap": null,
            "max_width": null,
            "order": null,
            "_view_module_version": "1.2.0",
            "grid_template_areas": null,
            "object_position": null,
            "object_fit": null,
            "grid_auto_columns": null,
            "margin": null,
            "display": null,
            "left": null
          }
        },
        "17214d6386eb471095d2dac4796a1819": {
          "model_module": "@jupyter-widgets/controls",
          "model_name": "IntProgressModel",
          "state": {
            "_view_name": "ProgressView",
            "style": "IPY_MODEL_285cd9e3b41f40dead452c4eceedb590",
            "_dom_classes": [],
            "description": "100%",
            "_model_name": "IntProgressModel",
            "bar_style": "success",
            "max": 1821,
            "_view_module": "@jupyter-widgets/controls",
            "_model_module_version": "1.5.0",
            "value": 1821,
            "_view_count": null,
            "_view_module_version": "1.5.0",
            "orientation": "horizontal",
            "min": 0,
            "description_tooltip": null,
            "_model_module": "@jupyter-widgets/controls",
            "layout": "IPY_MODEL_4c8f55bd1b7a449696b84d26a4e49b2f"
          }
        },
        "6631855c50724c759055cf4c60dda82e": {
          "model_module": "@jupyter-widgets/controls",
          "model_name": "HTMLModel",
          "state": {
            "_view_name": "HTMLView",
            "style": "IPY_MODEL_54ff18a083df4f24a3dcac33c3f526f3",
            "_dom_classes": [],
            "description": "",
            "_model_name": "HTMLModel",
            "placeholder": "​",
            "_view_module": "@jupyter-widgets/controls",
            "_model_module_version": "1.5.0",
            "value": " 1821/1821 [04:26&lt;00:00,  6.83it/s]",
            "_view_count": null,
            "_view_module_version": "1.5.0",
            "description_tooltip": null,
            "_model_module": "@jupyter-widgets/controls",
            "layout": "IPY_MODEL_f2b260a75e8e4693bd9578160b521edf"
          }
        },
        "285cd9e3b41f40dead452c4eceedb590": {
          "model_module": "@jupyter-widgets/controls",
          "model_name": "ProgressStyleModel",
          "state": {
            "_view_name": "StyleView",
            "_model_name": "ProgressStyleModel",
            "description_width": "initial",
            "_view_module": "@jupyter-widgets/base",
            "_model_module_version": "1.5.0",
            "_view_count": null,
            "_view_module_version": "1.2.0",
            "bar_color": null,
            "_model_module": "@jupyter-widgets/controls"
          }
        },
        "4c8f55bd1b7a449696b84d26a4e49b2f": {
          "model_module": "@jupyter-widgets/base",
          "model_name": "LayoutModel",
          "state": {
            "_view_name": "LayoutView",
            "grid_template_rows": null,
            "right": null,
            "justify_content": null,
            "_view_module": "@jupyter-widgets/base",
            "overflow": null,
            "_model_module_version": "1.2.0",
            "_view_count": null,
            "flex_flow": null,
            "width": null,
            "min_width": null,
            "border": null,
            "align_items": null,
            "bottom": null,
            "_model_module": "@jupyter-widgets/base",
            "top": null,
            "grid_column": null,
            "overflow_y": null,
            "overflow_x": null,
            "grid_auto_flow": null,
            "grid_area": null,
            "grid_template_columns": null,
            "flex": null,
            "_model_name": "LayoutModel",
            "justify_items": null,
            "grid_row": null,
            "max_height": null,
            "align_content": null,
            "visibility": null,
            "align_self": null,
            "height": null,
            "min_height": null,
            "padding": null,
            "grid_auto_rows": null,
            "grid_gap": null,
            "max_width": null,
            "order": null,
            "_view_module_version": "1.2.0",
            "grid_template_areas": null,
            "object_position": null,
            "object_fit": null,
            "grid_auto_columns": null,
            "margin": null,
            "display": null,
            "left": null
          }
        },
        "54ff18a083df4f24a3dcac33c3f526f3": {
          "model_module": "@jupyter-widgets/controls",
          "model_name": "DescriptionStyleModel",
          "state": {
            "_view_name": "StyleView",
            "_model_name": "DescriptionStyleModel",
            "description_width": "",
            "_view_module": "@jupyter-widgets/base",
            "_model_module_version": "1.5.0",
            "_view_count": null,
            "_view_module_version": "1.2.0",
            "_model_module": "@jupyter-widgets/controls"
          }
        },
        "f2b260a75e8e4693bd9578160b521edf": {
          "model_module": "@jupyter-widgets/base",
          "model_name": "LayoutModel",
          "state": {
            "_view_name": "LayoutView",
            "grid_template_rows": null,
            "right": null,
            "justify_content": null,
            "_view_module": "@jupyter-widgets/base",
            "overflow": null,
            "_model_module_version": "1.2.0",
            "_view_count": null,
            "flex_flow": null,
            "width": null,
            "min_width": null,
            "border": null,
            "align_items": null,
            "bottom": null,
            "_model_module": "@jupyter-widgets/base",
            "top": null,
            "grid_column": null,
            "overflow_y": null,
            "overflow_x": null,
            "grid_auto_flow": null,
            "grid_area": null,
            "grid_template_columns": null,
            "flex": null,
            "_model_name": "LayoutModel",
            "justify_items": null,
            "grid_row": null,
            "max_height": null,
            "align_content": null,
            "visibility": null,
            "align_self": null,
            "height": null,
            "min_height": null,
            "padding": null,
            "grid_auto_rows": null,
            "grid_gap": null,
            "max_width": null,
            "order": null,
            "_view_module_version": "1.2.0",
            "grid_template_areas": null,
            "object_position": null,
            "object_fit": null,
            "grid_auto_columns": null,
            "margin": null,
            "display": null,
            "left": null
          }
        },
        "f7eb055d85d8439b87b028cf335270a0": {
          "model_module": "@jupyter-widgets/controls",
          "model_name": "HBoxModel",
          "state": {
            "_view_name": "HBoxView",
            "_dom_classes": [],
            "_model_name": "HBoxModel",
            "_view_module": "@jupyter-widgets/controls",
            "_model_module_version": "1.5.0",
            "_view_count": null,
            "_view_module_version": "1.5.0",
            "box_style": "",
            "layout": "IPY_MODEL_24342a4be3f54307b17cbc842e5bd428",
            "_model_module": "@jupyter-widgets/controls",
            "children": [
              "IPY_MODEL_24749de0e00744ea805f77354841358f",
              "IPY_MODEL_132cecf01c1142e99f9b2e623cb00cef"
            ]
          }
        },
        "24342a4be3f54307b17cbc842e5bd428": {
          "model_module": "@jupyter-widgets/base",
          "model_name": "LayoutModel",
          "state": {
            "_view_name": "LayoutView",
            "grid_template_rows": null,
            "right": null,
            "justify_content": null,
            "_view_module": "@jupyter-widgets/base",
            "overflow": null,
            "_model_module_version": "1.2.0",
            "_view_count": null,
            "flex_flow": null,
            "width": null,
            "min_width": null,
            "border": null,
            "align_items": null,
            "bottom": null,
            "_model_module": "@jupyter-widgets/base",
            "top": null,
            "grid_column": null,
            "overflow_y": null,
            "overflow_x": null,
            "grid_auto_flow": null,
            "grid_area": null,
            "grid_template_columns": null,
            "flex": null,
            "_model_name": "LayoutModel",
            "justify_items": null,
            "grid_row": null,
            "max_height": null,
            "align_content": null,
            "visibility": null,
            "align_self": null,
            "height": null,
            "min_height": null,
            "padding": null,
            "grid_auto_rows": null,
            "grid_gap": null,
            "max_width": null,
            "order": null,
            "_view_module_version": "1.2.0",
            "grid_template_areas": null,
            "object_position": null,
            "object_fit": null,
            "grid_auto_columns": null,
            "margin": null,
            "display": null,
            "left": null
          }
        },
        "24749de0e00744ea805f77354841358f": {
          "model_module": "@jupyter-widgets/controls",
          "model_name": "IntProgressModel",
          "state": {
            "_view_name": "ProgressView",
            "style": "IPY_MODEL_56eef184bdc84f8f8a79bf64b2ef183e",
            "_dom_classes": [],
            "description": "100%",
            "_model_name": "IntProgressModel",
            "bar_style": "success",
            "max": 1821,
            "_view_module": "@jupyter-widgets/controls",
            "_model_module_version": "1.5.0",
            "value": 1821,
            "_view_count": null,
            "_view_module_version": "1.5.0",
            "orientation": "horizontal",
            "min": 0,
            "description_tooltip": null,
            "_model_module": "@jupyter-widgets/controls",
            "layout": "IPY_MODEL_a3f3e79001994600b9255470f95dc0d7"
          }
        },
        "132cecf01c1142e99f9b2e623cb00cef": {
          "model_module": "@jupyter-widgets/controls",
          "model_name": "HTMLModel",
          "state": {
            "_view_name": "HTMLView",
            "style": "IPY_MODEL_dc33bc1ab17646dc91fa222dda60f035",
            "_dom_classes": [],
            "description": "",
            "_model_name": "HTMLModel",
            "placeholder": "​",
            "_view_module": "@jupyter-widgets/controls",
            "_model_module_version": "1.5.0",
            "value": " 1821/1821 [01:11&lt;00:00, 25.62it/s]",
            "_view_count": null,
            "_view_module_version": "1.5.0",
            "description_tooltip": null,
            "_model_module": "@jupyter-widgets/controls",
            "layout": "IPY_MODEL_7fc9880d397846e99ed291a41a9e69c1"
          }
        },
        "56eef184bdc84f8f8a79bf64b2ef183e": {
          "model_module": "@jupyter-widgets/controls",
          "model_name": "ProgressStyleModel",
          "state": {
            "_view_name": "StyleView",
            "_model_name": "ProgressStyleModel",
            "description_width": "initial",
            "_view_module": "@jupyter-widgets/base",
            "_model_module_version": "1.5.0",
            "_view_count": null,
            "_view_module_version": "1.2.0",
            "bar_color": null,
            "_model_module": "@jupyter-widgets/controls"
          }
        },
        "a3f3e79001994600b9255470f95dc0d7": {
          "model_module": "@jupyter-widgets/base",
          "model_name": "LayoutModel",
          "state": {
            "_view_name": "LayoutView",
            "grid_template_rows": null,
            "right": null,
            "justify_content": null,
            "_view_module": "@jupyter-widgets/base",
            "overflow": null,
            "_model_module_version": "1.2.0",
            "_view_count": null,
            "flex_flow": null,
            "width": null,
            "min_width": null,
            "border": null,
            "align_items": null,
            "bottom": null,
            "_model_module": "@jupyter-widgets/base",
            "top": null,
            "grid_column": null,
            "overflow_y": null,
            "overflow_x": null,
            "grid_auto_flow": null,
            "grid_area": null,
            "grid_template_columns": null,
            "flex": null,
            "_model_name": "LayoutModel",
            "justify_items": null,
            "grid_row": null,
            "max_height": null,
            "align_content": null,
            "visibility": null,
            "align_self": null,
            "height": null,
            "min_height": null,
            "padding": null,
            "grid_auto_rows": null,
            "grid_gap": null,
            "max_width": null,
            "order": null,
            "_view_module_version": "1.2.0",
            "grid_template_areas": null,
            "object_position": null,
            "object_fit": null,
            "grid_auto_columns": null,
            "margin": null,
            "display": null,
            "left": null
          }
        },
        "dc33bc1ab17646dc91fa222dda60f035": {
          "model_module": "@jupyter-widgets/controls",
          "model_name": "DescriptionStyleModel",
          "state": {
            "_view_name": "StyleView",
            "_model_name": "DescriptionStyleModel",
            "description_width": "",
            "_view_module": "@jupyter-widgets/base",
            "_model_module_version": "1.5.0",
            "_view_count": null,
            "_view_module_version": "1.2.0",
            "_model_module": "@jupyter-widgets/controls"
          }
        },
        "7fc9880d397846e99ed291a41a9e69c1": {
          "model_module": "@jupyter-widgets/base",
          "model_name": "LayoutModel",
          "state": {
            "_view_name": "LayoutView",
            "grid_template_rows": null,
            "right": null,
            "justify_content": null,
            "_view_module": "@jupyter-widgets/base",
            "overflow": null,
            "_model_module_version": "1.2.0",
            "_view_count": null,
            "flex_flow": null,
            "width": null,
            "min_width": null,
            "border": null,
            "align_items": null,
            "bottom": null,
            "_model_module": "@jupyter-widgets/base",
            "top": null,
            "grid_column": null,
            "overflow_y": null,
            "overflow_x": null,
            "grid_auto_flow": null,
            "grid_area": null,
            "grid_template_columns": null,
            "flex": null,
            "_model_name": "LayoutModel",
            "justify_items": null,
            "grid_row": null,
            "max_height": null,
            "align_content": null,
            "visibility": null,
            "align_self": null,
            "height": null,
            "min_height": null,
            "padding": null,
            "grid_auto_rows": null,
            "grid_gap": null,
            "max_width": null,
            "order": null,
            "_view_module_version": "1.2.0",
            "grid_template_areas": null,
            "object_position": null,
            "object_fit": null,
            "grid_auto_columns": null,
            "margin": null,
            "display": null,
            "left": null
          }
        }
      }
    }
  },
  "cells": [
    {
      "cell_type": "markdown",
      "metadata": {
        "id": "view-in-github",
        "colab_type": "text"
      },
      "source": [
        "<a href=\"https://colab.research.google.com/github/stochasticats/plantpathologyfgvc7-keras-deeplearning/blob/master/plantpathologyfgvc7_deeplearning_custommodel.ipynb\" target=\"_parent\"><img src=\"https://colab.research.google.com/assets/colab-badge.svg\" alt=\"Open In Colab\"/></a>"
      ]
    },
    {
      "cell_type": "code",
      "metadata": {
        "id": "TDbdFrrkBlbC",
        "colab_type": "code",
        "outputId": "1fb96abd-13d7-423e-9b23-689c39020502",
        "colab": {
          "base_uri": "https://localhost:8080/",
          "height": 35
        }
      },
      "source": [
        "import numpy as np\n",
        "import pandas as pd\n",
        "import tensorflow as tf\n",
        "print(tf.__version__)\n",
        "import os\n",
        "import shutil\n",
        "import matplotlib.pyplot as plt"
      ],
      "execution_count": 1,
      "outputs": [
        {
          "output_type": "stream",
          "text": [
            "2.2.0-rc1\n"
          ],
          "name": "stdout"
        }
      ]
    },
    {
      "cell_type": "markdown",
      "metadata": {
        "id": "Sqsbz1UfGmXA",
        "colab_type": "text"
      },
      "source": [
        "#Loading Data and Preprocessing.\n",
        "Here we load the data and take a look at what we're dealing with."
      ]
    },
    {
      "cell_type": "code",
      "metadata": {
        "id": "ogDwx7BQBrA0",
        "colab_type": "code",
        "outputId": "76eae3ed-9cbc-49ee-eb0f-80f4351e8638",
        "colab": {
          "base_uri": "https://localhost:8080/",
          "height": 35
        }
      },
      "source": [
        "from google.colab import drive\n",
        "drive.mount('/content/drive')"
      ],
      "execution_count": 2,
      "outputs": [
        {
          "output_type": "stream",
          "text": [
            "Drive already mounted at /content/drive; to attempt to forcibly remount, call drive.mount(\"/content/drive\", force_remount=True).\n"
          ],
          "name": "stdout"
        }
      ]
    },
    {
      "cell_type": "code",
      "metadata": {
        "id": "9w5ZG8jRBspA",
        "colab_type": "code",
        "colab": {}
      },
      "source": [
        "!unzip -uq \"/content/drive/My Drive/plant-pathology-2020-fgvc7.zip\""
      ],
      "execution_count": 0,
      "outputs": []
    },
    {
      "cell_type": "code",
      "metadata": {
        "id": "o4bkvXrhB4R1",
        "colab_type": "code",
        "colab": {}
      },
      "source": [
        "train_df = pd.read_csv('train.csv')\n",
        "test_df = pd.read_csv('test.csv')\n",
        "\n",
        "targets = train_df[['healthy', 'multiple_diseases', 'rust', 'scab']]"
      ],
      "execution_count": 0,
      "outputs": []
    },
    {
      "cell_type": "code",
      "metadata": {
        "id": "nARa3Qx6CP0J",
        "colab_type": "code",
        "outputId": "8c65beca-f57d-49f1-f94a-f8a96facf50f",
        "colab": {
          "base_uri": "https://localhost:8080/",
          "height": 54
        }
      },
      "source": [
        "print(\"Shape of train data: \" + str(train_df.shape))\n",
        "print(\"Shape of test data: \" + str(test_df.shape))"
      ],
      "execution_count": 5,
      "outputs": [
        {
          "output_type": "stream",
          "text": [
            "Shape of train data: (1821, 5)\n",
            "Shape of test data: (1821, 1)\n"
          ],
          "name": "stdout"
        }
      ]
    },
    {
      "cell_type": "code",
      "metadata": {
        "id": "5K52jmSOYJ6h",
        "colab_type": "code",
        "colab": {
          "base_uri": "https://localhost:8080/",
          "height": 54
        },
        "outputId": "7608a699-b488-4380-a74d-65774d20e14c"
      },
      "source": [
        "train_len = train_df.shape[0]\n",
        "test_len = test_df.shape[0]\n",
        "print(train_len)\n",
        "print(test_len) "
      ],
      "execution_count": 6,
      "outputs": [
        {
          "output_type": "stream",
          "text": [
            "1821\n",
            "1821\n"
          ],
          "name": "stdout"
        }
      ]
    },
    {
      "cell_type": "markdown",
      "metadata": {
        "id": "ViO0Y5OJGy-1",
        "colab_type": "text"
      },
      "source": [
        "Let's see the distribution of images in terms of the targets/labels."
      ]
    },
    {
      "cell_type": "code",
      "metadata": {
        "id": "jFHS7LJBCdNJ",
        "colab_type": "code",
        "outputId": "26742dab-8f98-49f4-c4ab-2969460fd60c",
        "colab": {
          "base_uri": "https://localhost:8080/",
          "height": 274
        }
      },
      "source": [
        "print(train_df.describe())\n",
        "print(test_df.describe())"
      ],
      "execution_count": 7,
      "outputs": [
        {
          "output_type": "stream",
          "text": [
            "           healthy  multiple_diseases         rust         scab\n",
            "count  1821.000000        1821.000000  1821.000000  1821.000000\n",
            "mean      0.283361           0.049973     0.341571     0.325096\n",
            "std       0.450754           0.217948     0.474367     0.468539\n",
            "min       0.000000           0.000000     0.000000     0.000000\n",
            "25%       0.000000           0.000000     0.000000     0.000000\n",
            "50%       0.000000           0.000000     0.000000     0.000000\n",
            "75%       1.000000           0.000000     1.000000     1.000000\n",
            "max       1.000000           1.000000     1.000000     1.000000\n",
            "         image_id\n",
            "count        1821\n",
            "unique       1821\n",
            "top     Test_1211\n",
            "freq            1\n"
          ],
          "name": "stdout"
        }
      ]
    },
    {
      "cell_type": "markdown",
      "metadata": {
        "id": "jUFMzM0-G7iq",
        "colab_type": "text"
      },
      "source": [
        "Ah, we see the multiple_diseases label has drastically less images than the rest of the labels. Once we load the images in raw data form, we'll use scikitlearn to randomly over sample so we can fix this class imbalance.\n",
        "\n",
        "Now let's load the image data."
      ]
    },
    {
      "cell_type": "code",
      "metadata": {
        "id": "y2gYRlHJC5zs",
        "colab_type": "code",
        "outputId": "564215e9-da74-44b3-f7c0-4fdfce16eef4",
        "colab": {
          "base_uri": "https://localhost:8080/",
          "height": 136,
          "referenced_widgets": [
            "261fe3b2a1ab416cb7b0e510bd121a3f",
            "27b4d0097d6e4391883e7a7f3e1c4d37",
            "17214d6386eb471095d2dac4796a1819",
            "6631855c50724c759055cf4c60dda82e",
            "285cd9e3b41f40dead452c4eceedb590",
            "4c8f55bd1b7a449696b84d26a4e49b2f",
            "54ff18a083df4f24a3dcac33c3f526f3",
            "f2b260a75e8e4693bd9578160b521edf",
            "f7eb055d85d8439b87b028cf335270a0",
            "24342a4be3f54307b17cbc842e5bd428",
            "24749de0e00744ea805f77354841358f",
            "132cecf01c1142e99f9b2e623cb00cef",
            "56eef184bdc84f8f8a79bf64b2ef183e",
            "a3f3e79001994600b9255470f95dc0d7",
            "dc33bc1ab17646dc91fa222dda60f035",
            "7fc9880d397846e99ed291a41a9e69c1"
          ]
        }
      },
      "source": [
        "from keras.preprocessing.image import load_img\n",
        "from keras.preprocessing.image import img_to_array\n",
        "from tqdm.notebook import tqdm\n",
        "\n",
        "path = '/content/images/'\n",
        "num_img = train_df.shape[0]\n",
        "size = 224\n",
        "train_images = np.ndarray(shape=(train_len, size, size, 3))\n",
        "for i in tqdm(range(num_img)):\n",
        "  img = load_img(path + f'Train_{i}.jpg', target_size=(size, size))\n",
        "  train_images[i] = np.float32(img_to_array(img))\n",
        "\n",
        "test_images = np.ndarray(shape=(test_len, size, size, 3))\n",
        "for i in tqdm(range(num_img)):\n",
        "  img = load_img(path + f'Test_{i}.jpg', target_size=(size, size))\n",
        "  test_images[i] = np.float32(img_to_array(img))"
      ],
      "execution_count": 8,
      "outputs": [
        {
          "output_type": "stream",
          "text": [
            "Using TensorFlow backend.\n"
          ],
          "name": "stderr"
        },
        {
          "output_type": "display_data",
          "data": {
            "application/vnd.jupyter.widget-view+json": {
              "model_id": "261fe3b2a1ab416cb7b0e510bd121a3f",
              "version_minor": 0,
              "version_major": 2
            },
            "text/plain": [
              "HBox(children=(IntProgress(value=0, max=1821), HTML(value='')))"
            ]
          },
          "metadata": {
            "tags": []
          }
        },
        {
          "output_type": "stream",
          "text": [
            "\n"
          ],
          "name": "stdout"
        },
        {
          "output_type": "display_data",
          "data": {
            "application/vnd.jupyter.widget-view+json": {
              "model_id": "f7eb055d85d8439b87b028cf335270a0",
              "version_minor": 0,
              "version_major": 2
            },
            "text/plain": [
              "HBox(children=(IntProgress(value=0, max=1821), HTML(value='')))"
            ]
          },
          "metadata": {
            "tags": []
          }
        },
        {
          "output_type": "stream",
          "text": [
            "\n"
          ],
          "name": "stdout"
        }
      ]
    },
    {
      "cell_type": "code",
      "metadata": {
        "id": "M6zJW9feYvM0",
        "colab_type": "code",
        "colab": {
          "base_uri": "https://localhost:8080/",
          "height": 54
        },
        "outputId": "d2314aa5-c369-4677-a687-5ff733f9102a"
      },
      "source": [
        "print(train_images.shape)\n",
        "print(test_images.shape)"
      ],
      "execution_count": 9,
      "outputs": [
        {
          "output_type": "stream",
          "text": [
            "(1821, 224, 224, 3)\n",
            "(1821, 224, 224, 3)\n"
          ],
          "name": "stdout"
        }
      ]
    },
    {
      "cell_type": "markdown",
      "metadata": {
        "id": "kUz-3VrdHVkG",
        "colab_type": "text"
      },
      "source": [
        "Here we see the images are in raw data form, with three matrices for RGB format. We'll rescale later on as well."
      ]
    },
    {
      "cell_type": "code",
      "metadata": {
        "id": "5JtXC7DjGOIy",
        "colab_type": "code",
        "colab": {
          "base_uri": "https://localhost:8080/",
          "height": 935
        },
        "outputId": "ba825798-401c-48fb-b34d-26ef6d3bbccb"
      },
      "source": [
        "print(train_images[1])\n",
        "print(train_images[1].shape)"
      ],
      "execution_count": 10,
      "outputs": [
        {
          "output_type": "stream",
          "text": [
            "[[[207. 219. 219.]\n",
            "  [217. 228. 234.]\n",
            "  [224. 234. 244.]\n",
            "  ...\n",
            "  [231. 255. 255.]\n",
            "  [229. 255. 254.]\n",
            "  [227. 250. 255.]]\n",
            "\n",
            " [[209. 221. 221.]\n",
            "  [219. 230. 236.]\n",
            "  [225. 235. 245.]\n",
            "  ...\n",
            "  [238. 255. 255.]\n",
            "  [237. 255. 255.]\n",
            "  [229. 253. 255.]]\n",
            "\n",
            " [[211. 223. 223.]\n",
            "  [219. 230. 236.]\n",
            "  [225. 235. 245.]\n",
            "  ...\n",
            "  [243. 255. 255.]\n",
            "  [244. 255. 255.]\n",
            "  [231. 255. 255.]]\n",
            "\n",
            " ...\n",
            "\n",
            " [[211. 211. 147.]\n",
            "  [215. 216. 148.]\n",
            "  [219. 217. 143.]\n",
            "  ...\n",
            "  [ 77. 113.  77.]\n",
            "  [ 73. 110.  76.]\n",
            "  [ 72. 109.  78.]]\n",
            "\n",
            " [[215. 212. 145.]\n",
            "  [219. 216. 145.]\n",
            "  [221. 219. 145.]\n",
            "  ...\n",
            "  [ 87. 123.  85.]\n",
            "  [ 75. 116.  82.]\n",
            "  [ 68. 109.  79.]]\n",
            "\n",
            " [[214. 214. 144.]\n",
            "  [220. 216. 143.]\n",
            "  [222. 219. 142.]\n",
            "  ...\n",
            "  [ 75. 114.  87.]\n",
            "  [ 74. 111.  78.]\n",
            "  [ 77. 115.  78.]]]\n",
            "(224, 224, 3)\n"
          ],
          "name": "stdout"
        }
      ]
    },
    {
      "cell_type": "markdown",
      "metadata": {
        "id": "YeKEssDlHg8k",
        "colab_type": "text"
      },
      "source": [
        "Let's take a look at what the images look like."
      ]
    },
    {
      "cell_type": "code",
      "metadata": {
        "id": "dHQNDfHKG9ef",
        "colab_type": "code",
        "outputId": "0ebfea9a-b2e2-4e4c-8c00-67e753590cad",
        "colab": {
          "base_uri": "https://localhost:8080/",
          "height": 354
        }
      },
      "source": [
        "for i in range(4):\n",
        "\tplt.subplot(220 + 1 + i)\n",
        "\tplt.title(train_df['image_id'][i])\n",
        "\tplt.imshow(train_images[i])\n",
        "plt.show()"
      ],
      "execution_count": 11,
      "outputs": [
        {
          "output_type": "stream",
          "text": [
            "Clipping input data to the valid range for imshow with RGB data ([0..1] for floats or [0..255] for integers).\n",
            "Clipping input data to the valid range for imshow with RGB data ([0..1] for floats or [0..255] for integers).\n",
            "Clipping input data to the valid range for imshow with RGB data ([0..1] for floats or [0..255] for integers).\n",
            "Clipping input data to the valid range for imshow with RGB data ([0..1] for floats or [0..255] for integers).\n"
          ],
          "name": "stderr"
        },
        {
          "output_type": "display_data",
          "data": {
            "image/png": "[encoded data removed]",
            "text/plain": [
              "<Figure size 432x288 with 4 Axes>"
            ]
          },
          "metadata": {
            "tags": []
          }
        }
      ]
    },
    {
      "cell_type": "code",
      "metadata": {
        "id": "I_mC-KzoHk2Y",
        "colab_type": "code",
        "outputId": "bfdeafb7-44e4-4d69-a57a-af7f848596ef",
        "colab": {
          "base_uri": "https://localhost:8080/",
          "height": 354
        }
      },
      "source": [
        "for i in range(4):\n",
        "\tplt.subplot(220 + 1 + i)\n",
        "\tplt.title(test_df['image_id'][i])\n",
        "\tplt.imshow(test_images[i])\n",
        "plt.show()"
      ],
      "execution_count": 12,
      "outputs": [
        {
          "output_type": "stream",
          "text": [
            "Clipping input data to the valid range for imshow with RGB data ([0..1] for floats or [0..255] for integers).\n",
            "Clipping input data to the valid range for imshow with RGB data ([0..1] for floats or [0..255] for integers).\n",
            "Clipping input data to the valid range for imshow with RGB data ([0..1] for floats or [0..255] for integers).\n",
            "Clipping input data to the valid range for imshow with RGB data ([0..1] for floats or [0..255] for integers).\n"
          ],
          "name": "stderr"
        },
        {
          "output_type": "display_data",
          "data": {
            "image/png": "[encoded data removed]",
            "text/plain": [
              "<Figure size 432x288 with 4 Axes>"
            ]
          },
          "metadata": {
            "tags": []
          }
        }
      ]
    },
    {
      "cell_type": "markdown",
      "metadata": {
        "id": "BPJ_FDeYJnJl",
        "colab_type": "text"
      },
      "source": [
        "Now let's fix the class imbalance with RandomOverSampler. This will add more images to the multiple_diseases class."
      ]
    },
    {
      "cell_type": "code",
      "metadata": {
        "id": "bnWJ1_ZuPIl5",
        "colab_type": "code",
        "outputId": "5b0ae74d-b1a6-4697-f6a7-7029cbbc7eb8",
        "colab": {
          "base_uri": "https://localhost:8080/",
          "height": 147
        }
      },
      "source": [
        "from imblearn.over_sampling import RandomOverSampler\n",
        "\n",
        "ros = RandomOverSampler(random_state=42)\n",
        "x_res, y_res = ros.fit_resample(np.reshape(train_images, (-1, size * size * 3)), targets.to_numpy())\n",
        "x_res = x_res.reshape((-1, size, size, 3))"
      ],
      "execution_count": 30,
      "outputs": [
        {
          "output_type": "stream",
          "text": [
            "/usr/local/lib/python3.6/dist-packages/sklearn/externals/six.py:31: FutureWarning: The module is deprecated in version 0.21 and will be removed in version 0.23 since we've dropped support for Python 2.7. Please rely on the official version of six (https://pypi.org/project/six/).\n",
            "  \"(https://pypi.org/project/six/).\", FutureWarning)\n",
            "/usr/local/lib/python3.6/dist-packages/sklearn/utils/deprecation.py:144: FutureWarning: The sklearn.neighbors.base module is  deprecated in version 0.22 and will be removed in version 0.24. The corresponding classes / functions should instead be imported from sklearn.neighbors. Anything that cannot be imported from sklearn.neighbors is now part of the private API.\n",
            "  warnings.warn(message, FutureWarning)\n",
            "/usr/local/lib/python3.6/dist-packages/sklearn/utils/deprecation.py:87: FutureWarning: Function safe_indexing is deprecated; safe_indexing is deprecated in version 0.22 and will be removed in version 0.24.\n",
            "  warnings.warn(msg, category=FutureWarning)\n"
          ],
          "name": "stderr"
        }
      ]
    },
    {
      "cell_type": "code",
      "metadata": {
        "id": "i7xooi7ASUR2",
        "colab_type": "code",
        "outputId": "fc69f8cb-f2b5-413d-80b7-cc1fbe1fd87e",
        "colab": {
          "base_uri": "https://localhost:8080/",
          "height": 54
        }
      },
      "source": [
        "print(x_res.shape)\n",
        "print(y_res.shape)"
      ],
      "execution_count": 31,
      "outputs": [
        {
          "output_type": "stream",
          "text": [
            "(2488, 224, 224, 3)\n",
            "(2488, 4)\n"
          ],
          "name": "stdout"
        }
      ]
    },
    {
      "cell_type": "code",
      "metadata": {
        "id": "epVcSLBCRrs3",
        "colab_type": "code",
        "colab": {}
      },
      "source": [
        "from sklearn.model_selection import train_test_split\n",
        "x_train, x_test, y_train, y_test = train_test_split(x_res, y_res, test_size=0.1)"
      ],
      "execution_count": 0,
      "outputs": []
    },
    {
      "cell_type": "code",
      "metadata": {
        "id": "v8iZnCAGSNVW",
        "colab_type": "code",
        "outputId": "11cdc98e-e3c2-45fc-f400-2e5d79757a40",
        "colab": {
          "base_uri": "https://localhost:8080/",
          "height": 90
        }
      },
      "source": [
        "print(x_train.shape)\n",
        "print(x_test.shape)\n",
        "print(y_train.shape)\n",
        "print(y_test.shape)"
      ],
      "execution_count": 33,
      "outputs": [
        {
          "output_type": "stream",
          "text": [
            "(2239, 224, 224, 3)\n",
            "(249, 224, 224, 3)\n",
            "(2239, 4)\n",
            "(249, 4)\n"
          ],
          "name": "stdout"
        }
      ]
    },
    {
      "cell_type": "markdown",
      "metadata": {
        "id": "ykUu7Yk0KCYg",
        "colab_type": "text"
      },
      "source": [
        "Now we prepare the data for going into a Keras deep learning model. Here I use the ImageDataGenerator to also give us more images by using the parameters to rotate, horizontally flip, and vertically flip. Also the image is rescaled by 1/255 to normalize the raw data so that the activation functions work properly."
      ]
    },
    {
      "cell_type": "code",
      "metadata": {
        "id": "bRRpeG7fSgun",
        "colab_type": "code",
        "colab": {}
      },
      "source": [
        "from keras_preprocessing.image import ImageDataGenerator\n",
        "train_datagen = ImageDataGenerator(rescale = 1./255,\n",
        "\t    rotation_range=40,\n",
        "      horizontal_flip=True,\n",
        "      vertical_flip=True,\n",
        "      fill_mode='nearest')\n",
        "\n",
        "validation_datagen = ImageDataGenerator(rescale = 1./255)\n",
        "\n",
        "train_generator = train_datagen.flow(\n",
        "    x = x_train, \n",
        "    y = y_train,\n",
        "    batch_size = 32\n",
        "    )\n",
        "\n",
        "validation_generator = validation_datagen.flow(\n",
        "    x = x_test,\n",
        "    y = y_test,\n",
        "    batch_size = 32\n",
        "    )"
      ],
      "execution_count": 0,
      "outputs": []
    },
    {
      "cell_type": "markdown",
      "metadata": {
        "id": "JDRZkra2Kb9h",
        "colab_type": "text"
      },
      "source": [
        "Let's create the model. I use the Xception model (https://arxiv.org/abs/1610.02357) with an added dense layer with a softmax output of 4, since we are classifying into four classes. The Xception model is trained on a large image classification dataset comprising 350 million images and 17,000 classes!"
      ]
    },
    {
      "cell_type": "code",
      "metadata": {
        "id": "E_om1ZgHTaZ6",
        "colab_type": "code",
        "outputId": "925f45ea-86a9-446a-b62a-d8d283c18c76",
        "colab": {
          "base_uri": "https://localhost:8080/",
          "height": 458
        }
      },
      "source": [
        "def create_model():\n",
        "  model = tf.keras.Sequential([\n",
        "      # This is the first convolution\n",
        "      tf.keras.layers.Conv2D(32, (3,3), input_shape=(size, size, 3), activation='relu'),\n",
        "      #tf.keras.layers.BatchNormalization(),\n",
        "      tf.keras.layers.MaxPooling2D(pool_size=(3,3), strides=(2,2)),\n",
        "      # The second convolution\n",
        "      tf.keras.layers.Conv2D(64, (3,3), activation='relu'),\n",
        "      #tf.keras.layers.BatchNormalization(),\n",
        "      tf.keras.layers.MaxPooling2D(pool_size=(3,3), strides=(2,2)),\n",
        "      # Third conv layer\n",
        "      tf.keras.layers.Conv2D(128, (3,3), activation='relu'),\n",
        "      #tf.keras.layers.BatchNormalization(),\n",
        "      tf.keras.layers.MaxPooling2D(pool_size=(3,3), strides=(2,2)),\n",
        "      # Fourth conv layer\n",
        "      #tf.keras.layers.Conv2D(256, (3,3), activation='relu'),\n",
        "      #tf.keras.layers.BatchNormalization(),\n",
        "      #tf.keras.layers.MaxPooling2D(pool_size=(3,3), strides=(2,2)),\n",
        "      # Fifth conv layer\n",
        "      #tf.keras.layers.Conv2D(512, (3,3), activation='relu'),\n",
        "      #tf.keras.layers.BatchNormalization(),\n",
        "      #tf.keras.layers.MaxPooling2D(pool_size=(3,3), strides=(2,2)),\n",
        "      # Flatten the results\n",
        "      tf.keras.layers.Flatten(),\n",
        "      #tf.keras.layers.Dropout(0.4),\n",
        "      # 512 neuron hidden layer\n",
        "      tf.keras.layers.Dense(4, activation='softmax')\n",
        "      ])\n",
        "  \n",
        "  model.compile(\n",
        "        loss = 'categorical_crossentropy', \n",
        "        optimizer = 'adam', \n",
        "        metrics = ['accuracy'])\n",
        "  return model\n",
        "\n",
        "model = create_model()\n",
        "\n",
        "model.summary()"
      ],
      "execution_count": 52,
      "outputs": [
        {
          "output_type": "stream",
          "text": [
            "Model: \"sequential_10\"\n",
            "_________________________________________________________________\n",
            "Layer (type)                 Output Shape              Param #   \n",
            "=================================================================\n",
            "conv2d_35 (Conv2D)           (None, 222, 222, 32)      896       \n",
            "_________________________________________________________________\n",
            "max_pooling2d_35 (MaxPooling (None, 110, 110, 32)      0         \n",
            "_________________________________________________________________\n",
            "conv2d_36 (Conv2D)           (None, 108, 108, 64)      18496     \n",
            "_________________________________________________________________\n",
            "max_pooling2d_36 (MaxPooling (None, 53, 53, 64)        0         \n",
            "_________________________________________________________________\n",
            "conv2d_37 (Conv2D)           (None, 51, 51, 128)       73856     \n",
            "_________________________________________________________________\n",
            "max_pooling2d_37 (MaxPooling (None, 25, 25, 128)       0         \n",
            "_________________________________________________________________\n",
            "flatten_10 (Flatten)         (None, 80000)             0         \n",
            "_________________________________________________________________\n",
            "dense_13 (Dense)             (None, 4)                 320004    \n",
            "=================================================================\n",
            "Total params: 413,252\n",
            "Trainable params: 413,252\n",
            "Non-trainable params: 0\n",
            "_________________________________________________________________\n"
          ],
          "name": "stdout"
        }
      ]
    },
    {
      "cell_type": "code",
      "metadata": {
        "id": "BmrERcWvTxZh",
        "colab_type": "code",
        "colab": {
          "base_uri": "https://localhost:8080/",
          "height": 294
        },
        "outputId": "21e8374f-8c5d-4861-8486-1bb3caba22ff"
      },
      "source": [
        "epochs = 30\n",
        "batch_size = 32\n",
        "steps_per_epoch = 100\n",
        "\n",
        "start_lr = 0.00001\n",
        "min_lr = 0.00001\n",
        "max_lr = 0.00005\n",
        "rampup_epochs = 5\n",
        "sustain_epochs = 0\n",
        "exp_decay = .8\n",
        "\n",
        "def lrfn(epoch):\n",
        "  if epoch < rampup_epochs:\n",
        "    return (max_lr - start_lr)/rampup_epochs * epoch + start_lr\n",
        "  elif epoch < rampup_epochs + sustain_epochs:\n",
        "    return max_lr\n",
        "  else:\n",
        "    return (max_lr - min_lr) * exp_decay**(epoch-rampup_epochs-sustain_epochs) + min_lr\n",
        "    \n",
        "lr_callback = tf.keras.callbacks.LearningRateScheduler(lambda epoch: lrfn(epoch), verbose=True)\n",
        "\n",
        "rang = np.arange(epochs)\n",
        "y = [lrfn(x) for x in rang]\n",
        "plt.plot(rang, y)\n",
        "print('Learning rate per epoch:')"
      ],
      "execution_count": 53,
      "outputs": [
        {
          "output_type": "stream",
          "text": [
            "Learning rate per epoch:\n"
          ],
          "name": "stdout"
        },
        {
          "output_type": "display_data",
          "data": {
            "image/png": "[encoded data removed]",
            "text/plain": [
              "<Figure size 432x288 with 1 Axes>"
            ]
          },
          "metadata": {
            "tags": []
          }
        }
      ]
    },
    {
      "cell_type": "code",
      "metadata": {
        "id": "_A98EYLMT3-O",
        "colab_type": "code",
        "outputId": "a7950b2e-fd1e-4f4e-816a-140164e30fae",
        "colab": {
          "base_uri": "https://localhost:8080/",
          "height": 1000
        }
      },
      "source": [
        "history = model.fit(\n",
        "    train_generator,  \n",
        "    validation_data = validation_generator,\n",
        "    epochs = epochs,\n",
        "    steps_per_epoch = steps_per_epoch,\n",
        "    validation_steps = steps_per_epoch,\n",
        "    verbose=1)"
      ],
      "execution_count": 54,
      "outputs": [
        {
          "output_type": "stream",
          "text": [
            "Epoch 1/30\n",
            "100/100 [==============================] - 35s 348ms/step - loss: 1.4172 - accuracy: 0.3013 - val_loss: 1.4230 - val_accuracy: 0.3007\n",
            "Epoch 2/30\n",
            "100/100 [==============================] - 34s 343ms/step - loss: 1.2185 - accuracy: 0.4548 - val_loss: 1.3039 - val_accuracy: 0.3889\n",
            "Epoch 3/30\n",
            "100/100 [==============================] - 34s 343ms/step - loss: 1.0845 - accuracy: 0.5335 - val_loss: 0.9510 - val_accuracy: 0.5822\n",
            "Epoch 4/30\n",
            "100/100 [==============================] - 34s 341ms/step - loss: 0.9305 - accuracy: 0.6189 - val_loss: 0.9500 - val_accuracy: 0.6056\n",
            "Epoch 5/30\n",
            "100/100 [==============================] - 34s 339ms/step - loss: 0.8452 - accuracy: 0.6460 - val_loss: 0.7980 - val_accuracy: 0.6639\n",
            "Epoch 6/30\n",
            "100/100 [==============================] - 34s 340ms/step - loss: 0.7176 - accuracy: 0.7099 - val_loss: 0.7557 - val_accuracy: 0.6999\n",
            "Epoch 7/30\n",
            "100/100 [==============================] - 34s 341ms/step - loss: 0.6740 - accuracy: 0.7261 - val_loss: 0.7568 - val_accuracy: 0.6893\n",
            "Epoch 8/30\n",
            "100/100 [==============================] - 34s 341ms/step - loss: 0.6267 - accuracy: 0.7490 - val_loss: 0.6234 - val_accuracy: 0.7848\n",
            "Epoch 9/30\n",
            "100/100 [==============================] - 34s 338ms/step - loss: 0.5553 - accuracy: 0.7849 - val_loss: 0.6157 - val_accuracy: 0.7953\n",
            "Epoch 10/30\n",
            "100/100 [==============================] - 34s 335ms/step - loss: 0.4691 - accuracy: 0.8265 - val_loss: 0.5800 - val_accuracy: 0.7983\n",
            "Epoch 11/30\n",
            "100/100 [==============================] - 34s 336ms/step - loss: 0.4212 - accuracy: 0.8399 - val_loss: 0.5713 - val_accuracy: 0.8028\n",
            "Epoch 12/30\n",
            "100/100 [==============================] - 34s 337ms/step - loss: 0.3735 - accuracy: 0.8618 - val_loss: 0.5252 - val_accuracy: 0.8212\n",
            "Epoch 13/30\n",
            "100/100 [==============================] - 34s 337ms/step - loss: 0.3668 - accuracy: 0.8696 - val_loss: 0.4401 - val_accuracy: 0.8582\n",
            "Epoch 14/30\n",
            "100/100 [==============================] - 34s 339ms/step - loss: 0.3265 - accuracy: 0.8934 - val_loss: 0.4114 - val_accuracy: 0.8556\n",
            "Epoch 15/30\n",
            "100/100 [==============================] - 34s 335ms/step - loss: 0.3267 - accuracy: 0.8881 - val_loss: 0.4710 - val_accuracy: 0.8678\n",
            "Epoch 16/30\n",
            "100/100 [==============================] - 33s 335ms/step - loss: 0.2585 - accuracy: 0.9156 - val_loss: 0.3460 - val_accuracy: 0.8871\n",
            "Epoch 17/30\n",
            "100/100 [==============================] - 33s 335ms/step - loss: 0.2303 - accuracy: 0.9221 - val_loss: 0.2833 - val_accuracy: 0.8886\n",
            "Epoch 18/30\n",
            "100/100 [==============================] - 34s 336ms/step - loss: 0.2486 - accuracy: 0.9134 - val_loss: 0.4775 - val_accuracy: 0.8389\n",
            "Epoch 19/30\n",
            "100/100 [==============================] - 33s 333ms/step - loss: 0.2192 - accuracy: 0.9262 - val_loss: 0.2725 - val_accuracy: 0.9070\n",
            "Epoch 20/30\n",
            "100/100 [==============================] - 34s 337ms/step - loss: 0.1916 - accuracy: 0.9344 - val_loss: 0.3979 - val_accuracy: 0.8838\n",
            "Epoch 21/30\n",
            "100/100 [==============================] - 34s 338ms/step - loss: 0.1940 - accuracy: 0.9318 - val_loss: 0.3563 - val_accuracy: 0.8945\n",
            "Epoch 22/30\n",
            "100/100 [==============================] - 34s 337ms/step - loss: 0.1773 - accuracy: 0.9375 - val_loss: 0.2235 - val_accuracy: 0.9079\n",
            "Epoch 23/30\n",
            "100/100 [==============================] - 34s 335ms/step - loss: 0.1857 - accuracy: 0.9387 - val_loss: 0.2707 - val_accuracy: 0.9159\n",
            "Epoch 24/30\n",
            "100/100 [==============================] - 33s 332ms/step - loss: 0.1541 - accuracy: 0.9493 - val_loss: 0.2435 - val_accuracy: 0.9112\n",
            "Epoch 25/30\n",
            "100/100 [==============================] - 33s 335ms/step - loss: 0.1537 - accuracy: 0.9503 - val_loss: 0.3073 - val_accuracy: 0.9127\n",
            "Epoch 26/30\n",
            "100/100 [==============================] - 33s 335ms/step - loss: 0.1234 - accuracy: 0.9609 - val_loss: 0.2956 - val_accuracy: 0.8910\n",
            "Epoch 27/30\n",
            "100/100 [==============================] - 34s 335ms/step - loss: 0.1435 - accuracy: 0.9540 - val_loss: 0.2552 - val_accuracy: 0.9029\n",
            "Epoch 28/30\n",
            "100/100 [==============================] - 33s 334ms/step - loss: 0.1169 - accuracy: 0.9631 - val_loss: 0.2388 - val_accuracy: 0.9153\n",
            "Epoch 29/30\n",
            "100/100 [==============================] - 34s 337ms/step - loss: 0.1372 - accuracy: 0.9575 - val_loss: 0.4296 - val_accuracy: 0.8701\n",
            "Epoch 30/30\n",
            "100/100 [==============================] - 34s 337ms/step - loss: 0.1214 - accuracy: 0.9575 - val_loss: 0.2892 - val_accuracy: 0.8797\n"
          ],
          "name": "stdout"
        }
      ]
    },
    {
      "cell_type": "code",
      "metadata": {
        "id": "dblpPwyAT-dh",
        "colab_type": "code",
        "outputId": "224c3794-4ebe-4253-d7da-1f7502a7d76b",
        "colab": {
          "base_uri": "https://localhost:8080/",
          "height": 573
        }
      },
      "source": [
        "# Plot training & validation accuracy values\n",
        "plt.plot(history.history['accuracy'])\n",
        "plt.plot(history.history['val_accuracy'])\n",
        "plt.title('Model accuracy')\n",
        "plt.ylabel('Accuracy')\n",
        "plt.xlabel('Epoch')\n",
        "plt.legend(['Train', 'Test'], loc='upper left')\n",
        "plt.show()\n",
        "\n",
        "# Plot training & validation loss values\n",
        "plt.plot(history.history['loss'])\n",
        "plt.plot(history.history['val_loss'])\n",
        "plt.title('Model loss')\n",
        "plt.ylabel('Loss')\n",
        "plt.xlabel('Epoch')\n",
        "plt.legend(['Train', 'Test'], loc='upper left')\n",
        "plt.show()"
      ],
      "execution_count": 56,
      "outputs": [
        {
          "output_type": "display_data",
          "data": {
            "image/png": "[encoded data removed]",
            "text/plain": [
              "<Figure size 432x288 with 1 Axes>"
            ]
          },
          "metadata": {
            "tags": []
          }
        },
        {
          "output_type": "display_data",
          "data": {
            "image/png": "[encoded data removed]",
            "text/plain": [
              "<Figure size 432x288 with 1 Axes>"
            ]
          },
          "metadata": {
            "tags": []
          }
        }
      ]
    },
    {
      "cell_type": "code",
      "metadata": {
        "id": "hvn-3yHmYNMn",
        "colab_type": "code",
        "outputId": "9573161d-e823-4a71-992b-d9ccf27525ec",
        "colab": {
          "base_uri": "https://localhost:8080/",
          "height": 219
        }
      },
      "source": [
        "probabilities = model.predict(test_images)\n",
        "print(probabilities)\n",
        "print(probabilities[:,0].mean())\n",
        "print(probabilities[:,1].mean())\n",
        "print(probabilities[:,2].mean())\n",
        "print(probabilities[:,3].mean())"
      ],
      "execution_count": 57,
      "outputs": [
        {
          "output_type": "stream",
          "text": [
            "[[0. 0. 1. 0.]\n",
            " [0. 0. 1. 0.]\n",
            " [1. 0. 0. 0.]\n",
            " ...\n",
            " [0. 0. 1. 0.]\n",
            " [1. 0. 0. 0.]\n",
            " [1. 0. 0. 0.]]\n",
            "0.43029028\n",
            "0.0137288235\n",
            "0.47884938\n",
            "0.0771315\n"
          ],
          "name": "stdout"
        }
      ]
    },
    {
      "cell_type": "code",
      "metadata": {
        "id": "FflmI8ibbBUj",
        "colab_type": "code",
        "colab": {}
      },
      "source": [
        "test = pd.read_csv('test.csv')\n",
        "res = pd.DataFrame()\n",
        "res['image_id'] = test['image_id']\n",
        "res['healthy'] = probabilities[:, 0]\n",
        "res['multiple_diseases'] = probabilities[:, 1]\n",
        "res['rust'] = probabilities[:, 2]\n",
        "res['scab'] = probabilities[:, 3]"
      ],
      "execution_count": 0,
      "outputs": []
    },
    {
      "cell_type": "code",
      "metadata": {
        "id": "gGeAxnVMb_BT",
        "colab_type": "code",
        "colab": {}
      },
      "source": [
        "res.to_csv('submission.csv', index=False)"
      ],
      "execution_count": 0,
      "outputs": []
    }
  ]
}